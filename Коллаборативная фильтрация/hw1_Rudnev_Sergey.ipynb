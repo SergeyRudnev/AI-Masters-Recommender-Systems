{
 "cells": [
  {
   "cell_type": "code",
   "execution_count": 23,
   "metadata": {},
   "outputs": [],
   "source": [
    "import pandas as pd\n",
    "import numpy as np\n",
    "from surprise import Dataset\n",
    "from tqdm import tqdm\n",
    "import matplotlib.pyplot as plt"
   ]
  },
  {
   "cell_type": "markdown",
   "metadata": {},
   "source": [
    "# Загрузка данных"
   ]
  },
  {
   "cell_type": "markdown",
   "metadata": {},
   "source": [
    "Используем датасет movielens рейтингов фильмов https://grouplens.org/datasets/movielens/"
   ]
  },
  {
   "cell_type": "code",
   "execution_count": 2,
   "metadata": {},
   "outputs": [],
   "source": [
    "data = Dataset.load_builtin('ml-100k')\n",
    "df = pd.DataFrame(data.raw_ratings)\n",
    "df.columns = ['user', 'item', 'rating', 'timestamp']\n",
    "df.drop(columns = 'timestamp', inplace = True)"
   ]
  },
  {
   "cell_type": "markdown",
   "metadata": {},
   "source": [
    "# 1. KNN"
   ]
  },
  {
   "cell_type": "markdown",
   "metadata": {},
   "source": [
    "https://surprise.readthedocs.io/en/stable/knn_inspired.html"
   ]
  },
  {
   "cell_type": "code",
   "execution_count": 3,
   "metadata": {},
   "outputs": [],
   "source": [
    "def euclidean_distance(x, y):\n",
    "    u = np.diagonal((x @ x.T)).reshape(x.shape[0], 1)   # квадраты векторов из матрицы x\n",
    "    v = np.diagonal(y @ y.T).reshape(1, y.shape[0])     # квадраты векторов из матрицы y\n",
    "    # приводим к нужной размерности, так как на выходе должна быть матрица попарных расстояний\n",
    "    u = u @ np.ones(y.shape[0]).reshape(1, y.shape[0])\n",
    "    v = np.ones(x.shape[0]).reshape(x.shape[0], 1) @ v\n",
    "    return np.sqrt(u + v - 2*(x @ y.T))  # вычитаем попарные скалярные произведения векторов из x и векторов из y\n",
    "\n",
    "\n",
    "def cosine_distance(x, y): # 1- cos(x,y); cos(x,y) = (x,y)/|x||y|\n",
    "    u = np.sqrt(np.diagonal((x @ x.T)).reshape(x.shape[0], 1))  # длины векторов из матрицы x\n",
    "    v = np.sqrt(np.diagonal(y @ y.T).reshape(1, y.shape[0]))    # длины векторов из матрицы y\n",
    "    # приводим к нужной размерности, так как на выходе должна быть матрица попарных расстояний\n",
    "    u = u @ np.ones(y.shape[0]).reshape(1, y.shape[0])\n",
    "    v = np.ones(x.shape[0]).reshape(x.shape[0], 1) @ v\n",
    "    return 1 - x @ y.T / u / v          # делим скалярные произведения векторов их на длины"
   ]
  },
  {
   "cell_type": "code",
   "execution_count": 4,
   "metadata": {},
   "outputs": [],
   "source": [
    "class Knn:\n",
    "    def __init__(self, k = 10, min_k = 1, similarity='cosine', mode = 'user_based'):\n",
    "        if similarity == 'euclidean':\n",
    "            self.simil = euclidean_distance\n",
    "        elif similarity == 'cosine':\n",
    "            self.simil = cosine_distance\n",
    "        else:\n",
    "            raise ValueError(\"Metric is not supported\", similarity)\n",
    "        if mode not in ('user_based', 'item_based'):\n",
    "            raise ValueError(\"Algorithm mode is not supported\", mode)\n",
    "            \n",
    "        self.k = k\n",
    "        self.min_k = min_k\n",
    "        self.similarity = similarity\n",
    "        self.mode = mode\n",
    "        self.test_split_flag = False\n",
    "        self.eps = 1e-5\n",
    "    \n",
    "    def fit(self, X):\n",
    "         \n",
    "        self.R = X.pivot(index='user', columns='item', values='rating').fillna(0).values\n",
    "    \n",
    "    def train_test_split(self, test_size = 10): # test_size количество объектов, для каждого пользователя, рейтинги которых делаем нанами\n",
    "        self.test_split_flag = True\n",
    "        \n",
    "        def make_test(a):\n",
    "            notnans = np.argwhere(a > 0).reshape(-1)\n",
    "            # выберем по 10 not nan значений из кажой строки\n",
    "            notnans_sample = np.random.randint(0, int(len(notnans)), size = test_size)\n",
    "            return notnans[notnans_sample]  # возвращаем индексы выбранных значений\n",
    "        \n",
    "        self.test_split = np.apply_along_axis(make_test, 1, self.R)    \n",
    "        self.test_ratings = np.take_along_axis(self.R, self.test_split, 1)\n",
    "        \n",
    "        for i in range(len(self.R)):  # формируем обучающую выборку, заполняя выбранные ранее элементы нулями\n",
    "            self.R[i][self.test_split[i]] = 0\n",
    "            \n",
    "        \n",
    "        if self.mode == 'user_based':\n",
    "            self.users_mean_rating = np.mean(self.R, axis = 1)\n",
    "        if self.mode == 'item_based':\n",
    "            self.items_mean_rating = np.mean(self.R, axis = 0)\n",
    "            \n",
    "        #  проверим, что нет таких объектов и пользователей, у которых вообще нет оценок после создания тестовой выборки \n",
    "        if self.mode == 'user_based':\n",
    "            for i in range(self.R.shape[0]):\n",
    "                if self.R[i,:].sum() == 0:\n",
    "                    self.R[i,:] = self.R.mean()    \n",
    "        if self.mode == 'item_based':\n",
    "            for i in range(self.R.shape[1]):\n",
    "                if self.R[:,i].sum() == 0:\n",
    "                    self.R[:,i] = self.R.mean()      \n",
    "        \n",
    "\n",
    "    def kneighbors(self):  \n",
    "        distances = self.simil(self.R, self.R)\n",
    "        if self.similarity == 'cosine':\n",
    "            similarities = 1 - distances\n",
    "        if self.similarity == 'euclidean':\n",
    "            similarities = 1 / (self.eps + distances) \n",
    "        indices = np.argsort(distances, axis = 1)            \n",
    "        return similarities, indices[:,1:]  # не учитываем, что сам объект является ближайшим к самому себе \n",
    "\n",
    "    def predict(self): \n",
    "        if self.mode == 'item_based':\n",
    "            self.R = self.R.T\n",
    "        similarities, indices = self.kneighbors()\n",
    "        self.count_rating(indices, similarities)\n",
    "    \n",
    "    def rmse(self):\n",
    "        if self.test_split_flag:\n",
    "            if self.mode == 'user_based':\n",
    "                self.pred_test_ratings = np.take_along_axis(self.R, self.test_split, 1)\n",
    "            if self.mode == 'item_based':\n",
    "                self.pred_test_ratings = np.take_along_axis(self.R.T, self.test_split, 1)\n",
    "            return np.mean((self.pred_test_ratings - self.test_ratings)**2)\n",
    "        else:\n",
    "            print(\"can't count mistake, as there is no test data\")\n",
    "            return np.NaN"
   ]
  },
  {
   "cell_type": "markdown",
   "metadata": {},
   "source": [
    "### 1.1 KNNBasic"
   ]
  },
  {
   "cell_type": "code",
   "execution_count": 28,
   "metadata": {},
   "outputs": [],
   "source": [
    "class KnnBasic(Knn):\n",
    "    \n",
    "    def count_rating(self, indices, similarities):\n",
    "        for i in range(self.R.shape[1]):\n",
    "            for u in range(self.R.shape[0]):\n",
    "                if self.R[u,i] == 0:\n",
    "                    j = 0\n",
    "                    r = 0\n",
    "                    const = 0\n",
    "                    for v in indices[u]:\n",
    "                        if  self.R[v,i] != 0:\n",
    "                            r += similarities[u,v] * self.R[v,i]\n",
    "                            const += similarities[u,v]\n",
    "                            j += 1\n",
    "\n",
    "                        if j == self.k:\n",
    "                            break\n",
    "                    if j < self.min_k:\n",
    "                        if self.mode == 'user_based':\n",
    "                            self.R[u,i] = self.users_mean_rating[u]\n",
    "                        if self.mode == 'item_based':\n",
    "                            self.R[u,i] = self.items_mean_rating[u]\n",
    "                    else:\n",
    "                        self.R[u,i] = r/const"
   ]
  },
  {
   "cell_type": "code",
   "execution_count": 6,
   "metadata": {},
   "outputs": [],
   "source": [
    "np.random.seed(0)"
   ]
  },
  {
   "cell_type": "code",
   "execution_count": 7,
   "metadata": {},
   "outputs": [],
   "source": [
    "model = KnnBasic(mode = 'user_based')"
   ]
  },
  {
   "cell_type": "code",
   "execution_count": 8,
   "metadata": {},
   "outputs": [],
   "source": [
    "model.fit(df)"
   ]
  },
  {
   "cell_type": "code",
   "execution_count": 9,
   "metadata": {},
   "outputs": [],
   "source": [
    "model.train_test_split()"
   ]
  },
  {
   "cell_type": "code",
   "execution_count": 10,
   "metadata": {},
   "outputs": [],
   "source": [
    "model.predict()"
   ]
  },
  {
   "cell_type": "code",
   "execution_count": 11,
   "metadata": {},
   "outputs": [
    {
     "data": {
      "text/plain": [
       "1.1257134181930302"
      ]
     },
     "execution_count": 11,
     "metadata": {},
     "output_type": "execute_result"
    }
   ],
   "source": [
    "model.rmse()"
   ]
  },
  {
   "cell_type": "markdown",
   "metadata": {},
   "source": [
    "### 1.2 KNNWithMeans"
   ]
  },
  {
   "cell_type": "code",
   "execution_count": 29,
   "metadata": {},
   "outputs": [],
   "source": [
    "class KnnWithMeans(Knn):\n",
    "    \n",
    "    def count_rating(self, indices, similarities):\n",
    "        for i in range(self.R.shape[1]):\n",
    "            for u in range(self.R.shape[0]):\n",
    "                if self.R[u,i] == 0:\n",
    "                    j = 0\n",
    "                    r = 0\n",
    "                    const = 0\n",
    "                    if self.mode == 'user_based':\n",
    "                        mean_u = self.users_mean_rating[u]\n",
    "                    if self.mode == 'item_based':\n",
    "                        mean_u = self.items_mean_rating[u]\n",
    "                    for v in indices[u]:\n",
    "                        if self.mode == 'user_based':\n",
    "                            mean_v = self.users_mean_rating[v]\n",
    "                        if self.mode == 'item_based':\n",
    "                            mean_v = self.items_mean_rating[v]\n",
    "                            \n",
    "                        if  self.R[v,i] != 0:\n",
    "                            r += similarities[u,v] * (self.R[v,i] - mean_v)\n",
    "                            const += similarities[u,v]\n",
    "                            j += 1\n",
    "\n",
    "                        if j == self.k:\n",
    "                            break\n",
    "                    if j < self.min_k:\n",
    "                        if self.mode == 'user_based':\n",
    "                            self.R[u,i] = self.users_mean_rating[u]\n",
    "                        if self.mode == 'item_based':\n",
    "                            self.R[u,i] = self.items_mean_rating[u]\n",
    "                    else:\n",
    "                        self.R[u,i] = mean_u + r/const"
   ]
  },
  {
   "cell_type": "code",
   "execution_count": 13,
   "metadata": {},
   "outputs": [],
   "source": [
    "np.random.seed(0)"
   ]
  },
  {
   "cell_type": "code",
   "execution_count": 14,
   "metadata": {},
   "outputs": [],
   "source": [
    "model = KnnWithMeans(mode = 'item_based')"
   ]
  },
  {
   "cell_type": "code",
   "execution_count": 15,
   "metadata": {},
   "outputs": [],
   "source": [
    "model.fit(df)"
   ]
  },
  {
   "cell_type": "code",
   "execution_count": 16,
   "metadata": {},
   "outputs": [
    {
     "data": {
      "text/plain": [
       "2.5109315727220105"
      ]
     },
     "execution_count": 16,
     "metadata": {},
     "output_type": "execute_result"
    }
   ],
   "source": [
    "model.train_test_split()\n",
    "\n",
    "model.predict()\n",
    "\n",
    "model.rmse()"
   ]
  },
  {
   "cell_type": "markdown",
   "metadata": {},
   "source": [
    "# 2. SVD(Funk MF + bias)"
   ]
  },
  {
   "cell_type": "markdown",
   "metadata": {},
   "source": [
    "https://surprise.readthedocs.io/en/stable/matrix_factorization.html"
   ]
  },
  {
   "cell_type": "code",
   "execution_count": 7,
   "metadata": {},
   "outputs": [],
   "source": [
    "class SVD:\n",
    "    def __init__(self, n_factors = 10, n_epochs = 20, biased=True, \n",
    "                 init_mean=0, init_std_dev=0.1, lr_bu=1e-6, lr_bi=1e-6, lr_pu=1e-3, lr_qi=1e-3,\n",
    "                 reg_bu=0, reg_bi=0, reg_pu=0.1, reg_qi=0.1):\n",
    "\n",
    "        self.n_factors = n_factors\n",
    "        self.n_epochs = n_epochs\n",
    "        self.biased = biased\n",
    "        self.init_mean = init_mean\n",
    "        self.init_std_dev = init_std_dev\n",
    "        self.lr_bu = lr_bu\n",
    "        self.lr_bi = lr_bi\n",
    "        self.lr_qi = lr_qi\n",
    "        self.lr_pu = lr_pu\n",
    "        self.reg_pu = reg_pu\n",
    "        self.reg_qi = reg_qi\n",
    "        self.reg_bu = reg_bu\n",
    "        self.reg_bi = reg_bi\n",
    "        self.test_split_flag = False\n",
    "    \n",
    "    def fit(self, X):             \n",
    "        self.R = X.pivot(index='user', columns='item', values='rating').fillna(0).values\n",
    "    \n",
    "    def train_test_split(self, test_size = 10): # test_size количество объектов, для каждого пользователя, рейтинги которых делаем нанами\n",
    "        self.test_split_flag = True\n",
    "        def make_test(a):\n",
    "            notnans = np.argwhere(a > 0).reshape(-1)\n",
    "            # выберем по 10 not nan значений из кажой строки\n",
    "            notnans_sample = np.random.randint(0, int(len(notnans)), size = test_size)\n",
    "            return notnans[notnans_sample]  # возвращаем индексы выбранных значений\n",
    "        \n",
    "        self.test_split = np.apply_along_axis(make_test, 1, self.R)    \n",
    "        self.test_ratings = np.take_along_axis(self.R, self.test_split, 1)\n",
    "        \n",
    "        for i in range(len(self.R)):  # формируем обучающую выборку, заполняя выбранные ранее элементы нулями\n",
    "            self.R[i][self.test_split[i]] = 0    \n",
    " \n",
    "        #  проверим, что нет таких пользователей, у которых вообще нет оценок после создания тестовой выборки \n",
    "        for i in range(self.R.shape[0]):\n",
    "            if self.R[i,:].sum() == 0:\n",
    "                self.R[i,:] = self.R.mean()    \n",
    "    \n",
    "    def predict(self): \n",
    "        self.users_mean_rating = np.mean(self.R, axis = 1)\n",
    "        self.items_mean_rating = np.mean(self.R, axis = 0)\n",
    "        self.mean = self.R.mean()\n",
    "        self.solver()\n",
    "        self.R = self.R_est\n",
    "   \n",
    "    def rmse(self):\n",
    "        if self.test_split_flag:\n",
    "            self.pred_test_ratings = np.take_along_axis(self.R, self.test_split, 1)\n",
    "            return np.mean((self.pred_test_ratings - self.test_ratings)**2)\n",
    "        else:\n",
    "            print(\"can't count mistake, as there is no test data\")\n",
    "            return np.NaN"
   ]
  },
  {
   "cell_type": "markdown",
   "metadata": {},
   "source": [
    "### 2.1. Метод оптимизации SGD"
   ]
  },
  {
   "cell_type": "code",
   "execution_count": 8,
   "metadata": {},
   "outputs": [],
   "source": [
    "class SVD_SGD(SVD):\n",
    "    def solver(self):\n",
    "        self.P = self.init_mean + self.init_std_dev * np.random.randn(self.R.shape[0], self.n_factors)\n",
    "        self.Q = self.init_mean + self.init_std_dev * np.random.randn(self.n_factors, self.R.shape[1])\n",
    "        if self.biased:\n",
    "            self.R_est = self.mean + self.users_mean_rating.reshape(-1,1) + self.items_mean_rating.reshape(1,-1) + self.P @ self.Q\n",
    "            for j in range(self.n_epochs):\n",
    "                for u in np.random.permutation(range(self.R.shape[0])):\n",
    "                    for i in np.random.permutation(range(self.R.shape[1])):\n",
    "                        if self.R[u,i] != 0:\n",
    "                            self.users_mean_rating = self.users_mean_rating + self.lr_bu * (self.R[u,i] - self.R_est[u,i] - self.reg_bu * self.users_mean_rating)\n",
    "                            self.items_mean_rating = self.items_mean_rating + self.lr_bi * (self.R[u,i] - self.R_est[u,i] - self.reg_bi * self.items_mean_rating)\n",
    "                            self.P[u,:] = self.P[u,:] + self.lr_pu * ((self.R[u,i] - self.R_est[u,i]) * self.Q[:,i] - self.reg_pu * self.P[u,:])\n",
    "                            self.Q[:,i] = self.Q[:,i] + self.lr_qi * ((self.R[u,i] - self.R_est[u,i]) * self.P[u,:] - self.reg_qi * self.Q[:,i])\n",
    "                self.R_est = self.mean + self.users_mean_rating.reshape(-1,1) + self.items_mean_rating.reshape(1,-1) + self.P @ self.Q\n",
    "        else:\n",
    "            self.R_est = self.P @ self.Q\n",
    "            for j in range(self.n_epochs):\n",
    "                for u in np.random.permutation(range(self.R.shape[0])):\n",
    "                    for i in np.random.permutation(range(self.R.shape[1])):\n",
    "                        if self.R[u,i] != 0:\n",
    "                            self.P[u,:] = self.P[u,:] + self.lr_pu * ((self.R[u,i] - self.R_est[u,i]) * self.Q[:,i] - self.reg_pu * self.P[u,:])\n",
    "                            self.Q[:,i] = self.Q[:,i] + self.lr_qi * ((self.R[u,i] - self.R_est[u,i]) * self.P[u,:] - self.reg_qi * self.Q[:,i])\n",
    "                self.R_est = self.P @ self.Q"
   ]
  },
  {
   "cell_type": "code",
   "execution_count": 25,
   "metadata": {},
   "outputs": [
    {
     "data": {
      "text/plain": [
       "1.3646777528611778"
      ]
     },
     "execution_count": 25,
     "metadata": {},
     "output_type": "execute_result"
    }
   ],
   "source": [
    "np.random.seed(0)\n",
    "\n",
    "model = SVD_SGD()\n",
    "\n",
    "model.fit(df)\n",
    "\n",
    "model.train_test_split()\n",
    "\n",
    "model.predict()\n",
    "\n",
    "model.rmse()"
   ]
  },
  {
   "cell_type": "markdown",
   "metadata": {},
   "source": [
    "### 2.2. Метод оптимизации ALS"
   ]
  },
  {
   "cell_type": "markdown",
   "metadata": {},
   "source": [
    "http://stanford.edu/~rezab/classes/cme323/S15/notes/lec14.pdf"
   ]
  },
  {
   "cell_type": "code",
   "execution_count": 9,
   "metadata": {},
   "outputs": [],
   "source": [
    "class SVD_ALS(SVD):\n",
    "    def solver(self):\n",
    "        self.P = self.init_mean + self.init_std_dev * np.random.randn(self.R.shape[0], self.n_factors)\n",
    "        self.Q = self.init_mean + self.init_std_dev * np.random.randn(self.n_factors, self.R.shape[1])\n",
    "        for j in range(self.n_epochs):\n",
    "            for u in range(self.R.shape[0]):\n",
    "                self.A = np.zeros((self.n_factors, self.n_factors))\n",
    "                self.b = np.zeros(self.n_factors)\n",
    "                for i in np.argwhere(model.R[u,:] != 0).reshape(-1):\n",
    "                    self.A += self.Q[:,i].reshape(-1,1) @ self.Q[:,i].reshape(1,-1)\n",
    "                    if self.biased:\n",
    "                        self.b += (self.R[u,i] - (self.mean + self.users_mean_rating[u] + self.items_mean_rating[i])) * self.Q[:,i]\n",
    "                    else:\n",
    "                        self.b += self.R[u,i] * self.Q[:,i]\n",
    "                self.A += self.reg_pu * np.eye(self.n_factors)\n",
    "                \n",
    "                self.P[u,:] = np.linalg.solve(self.A, self.b)        \n",
    "\n",
    "            for i in range(self.R.shape[1]):\n",
    "                \n",
    "                self.A = np.zeros((self.n_factors, self.n_factors))\n",
    "                self.b = np.zeros(self.n_factors)\n",
    "                for u in np.argwhere(self.R[:,i] != 0).reshape(-1):\n",
    "                    self.A += self.P[u,:].reshape(-1,1) @ self.P[u,:].reshape(1,-1)\n",
    "                    if self.biased:\n",
    "                        self.b += (self.R[u,i] - (self.mean + self.users_mean_rating[u] + self.items_mean_rating[i])) * self.P[u,:]\n",
    "                    else:\n",
    "                        self.b += self.R[u,i] * self.P[u,:]\n",
    "                self.A += self.reg_qi * np.eye(self.n_factors)\n",
    "                \n",
    "                self.Q[:,i] = np.linalg.solve(self.A, self.b)\n",
    "                        \n",
    "        self.R_est = self.mean + self.users_mean_rating.reshape(-1,1) + self.items_mean_rating.reshape(1,-1) + self.P @ self.Q"
   ]
  },
  {
   "cell_type": "code",
   "execution_count": 218,
   "metadata": {},
   "outputs": [],
   "source": [
    "np.random.seed(0)\n",
    "\n",
    "model = SVD_ALS()\n",
    "\n",
    "model.fit(df)\n",
    "\n",
    "model.train_test_split()"
   ]
  },
  {
   "cell_type": "code",
   "execution_count": 219,
   "metadata": {},
   "outputs": [
    {
     "data": {
      "text/plain": [
       "1.69534885399063"
      ]
     },
     "execution_count": 219,
     "metadata": {},
     "output_type": "execute_result"
    }
   ],
   "source": [
    "model.predict()\n",
    "\n",
    "model.rmse()"
   ]
  },
  {
   "cell_type": "markdown",
   "metadata": {},
   "source": [
    "# 3. SVD++"
   ]
  },
  {
   "cell_type": "markdown",
   "metadata": {},
   "source": [
    "https://surprise.readthedocs.io/en/stable/matrix_factorization.html#unbiased-note"
   ]
  },
  {
   "cell_type": "code",
   "execution_count": 10,
   "metadata": {},
   "outputs": [],
   "source": [
    "class SVDpp:\n",
    "    def __init__(self, n_factors = 10, n_epochs = 20, init_mean=0, init_std_dev=0.1, \n",
    "                 lr_bu=1e-6, lr_bi=1e-6, lr_pu=1e-3, lr_qi=1e-3, lr_yj = 1e-3, \n",
    "                 reg_bu=0, reg_bi=0, reg_yj=0.1, reg_pu=0.1, reg_qi=0.1):\n",
    "\n",
    "        self.n_factors = n_factors\n",
    "        self.n_epochs = n_epochs\n",
    "        self.init_mean = init_mean\n",
    "        self.init_std_dev = init_std_dev\n",
    "        self.lr_bu = lr_bu\n",
    "        self.lr_bi = lr_bi\n",
    "        self.lr_qi = lr_qi\n",
    "        self.lr_pu = lr_pu\n",
    "        self.lr_yj = lr_yj\n",
    "        self.reg_pu = reg_pu\n",
    "        self.reg_qi = reg_qi\n",
    "        self.reg_yj = reg_yj\n",
    "        self.reg_bu = reg_bu\n",
    "        self.reg_bi = reg_bi\n",
    "        \n",
    "        self.test_split_flag = False\n",
    "    \n",
    "    def fit(self, X):             \n",
    "        self.R = X.pivot(index='user', columns='item', values='rating').fillna(0).values\n",
    "    \n",
    "    def train_test_split(self, test_size = 10): # test_size количество объектов, для каждого пользователя, рейтинги которых делаем нанами\n",
    "        self.test_split_flag = True\n",
    "        def make_test(a):\n",
    "            notnans = np.argwhere(a > 0).reshape(-1)\n",
    "            # выберем по 10 not nan значений из кажой строки\n",
    "            notnans_sample = np.random.randint(0, int(len(notnans)), size = test_size)\n",
    "            return notnans[notnans_sample]  # возвращаем индексы выбранных значений\n",
    "        \n",
    "        self.test_split = np.apply_along_axis(make_test, 1, self.R)    \n",
    "        self.test_ratings = np.take_along_axis(self.R, self.test_split, 1)\n",
    "        \n",
    "        for i in range(len(self.R)):  # формируем обучающую выборку, заполняя выбранные ранее элементы нулями\n",
    "            self.R[i][self.test_split[i]] = 0    \n",
    " \n",
    "        #  проверим, что нет таких пользователей, у которых вообще нет оценок после создания тестовой выборки \n",
    "        for i in range(self.R.shape[0]):\n",
    "            if self.R[i,:].sum() == 0:\n",
    "                self.R[i,:] = self.R.mean()    \n",
    "    \n",
    "    def predict(self): \n",
    "        self.users_mean_rating = np.mean(self.R, axis = 1)\n",
    "        self.items_mean_rating = np.mean(self.R, axis = 0)\n",
    "        self.mean = self.R.mean()\n",
    "        self.solver()\n",
    "        self.R = self.R_est\n",
    "   \n",
    "    def rmse(self):\n",
    "        if self.test_split_flag:\n",
    "            self.pred_test_ratings = np.take_along_axis(self.R, self.test_split, 1)\n",
    "            return np.mean((self.pred_test_ratings - self.test_ratings)**2)\n",
    "        else:\n",
    "            print(\"can't count mistake, as there is no test data\")\n",
    "            return np.NaN"
   ]
  },
  {
   "cell_type": "code",
   "execution_count": 11,
   "metadata": {},
   "outputs": [],
   "source": [
    "class SVDpp_SGD(SVDpp):\n",
    "    def solver(self):\n",
    "        # заполняем начальные значения \n",
    "        self.P = self.init_mean + self.init_std_dev * np.random.randn(self.R.shape[0], self.n_factors)\n",
    "        self.Q = self.init_mean + self.init_std_dev * np.random.randn(self.n_factors, self.R.shape[1])\n",
    "        self.Y = self.init_mean + self.init_std_dev * np.random.randn(self.n_factors, self.R.shape[1])\n",
    "        self.I = np.sum(self.R.astype(bool), axis = 1)\n",
    "        self.R_est = self.mean + self.users_mean_rating.reshape(-1,1) + self.items_mean_rating.reshape(1,-1)\n",
    "        self.Y_sum = np.zeros((self.R.shape[0], self.n_factors))\n",
    "        \n",
    "        for u in range(self.R.shape[0]):\n",
    "            for j in np.argwhere(self.R[u,:] != 0).reshape(-1):\n",
    "                self.Y_sum[u,:] += self.Y[:,j]\n",
    "            self.Y_sum[u,:] /= np.sqrt(self.I[u])\n",
    "            for i in np.argwhere(self.R[u,:] != 0).reshape(-1):   \n",
    "                self.R_est[u,i] += (self.P[u,:] + self.Y_sum[u,:]) @ self.Q[:,i]\n",
    "           \n",
    "        for j in tqdm(range(self.n_epochs)):\n",
    "            for u in np.random.permutation(range(self.R.shape[0])):\n",
    "                for i in np.random.permutation(np.argwhere(self.R[u,:] != 0).reshape(-1)): \n",
    "                    self.users_mean_rating = self.users_mean_rating + self.lr_bu * (self.R[u,i] - self.R_est[u,i] - self.reg_bu * self.users_mean_rating)\n",
    "                    self.items_mean_rating = self.items_mean_rating + self.lr_bi * (self.R[u,i] - self.R_est[u,i] - self.reg_bi * self.items_mean_rating)\n",
    "                    self.P[u,:] += self.lr_pu * ((self.R[u,i] - self.R_est[u,i]) * self.Q[:,i] - self.reg_pu * self.P[u,:])\n",
    "                    self.Q[:,i] += self.lr_qi * ((self.R[u,i] - self.R_est[u,i]) * (self.P[u,:] + self.Y_sum[u,:]) - self.reg_qi * self.Q[:,i])\n",
    "                    for k in np.argwhere(self.R[u,:] != 0).reshape(-1):\n",
    "                        self.Y[:,k] += self.lr_yj * ((self.R[u,i] - self.R_est[u,i]) * self.Q[:,i] / np.sqrt(self.I[u])  - self.reg_yj * self.Y[:,k])\n",
    "                        \n",
    "            self.R_est = self.mean + self.users_mean_rating.reshape(-1,1) + self.items_mean_rating.reshape(1,-1)\n",
    "            self.Y_sum = np.zeros((self.R.shape[0], self.n_factors))\n",
    "        \n",
    "            for u in range(self.R.shape[0]):\n",
    "                for j in np.argwhere(self.R[u,:] != 0).reshape(-1):\n",
    "                    self.Y_sum[u,:] += self.Y[:,j]\n",
    "                self.Y_sum[u,:] /= np.sqrt(self.I[u])\n",
    "                for i in np.argwhere(self.R[u,:] != 0).reshape(-1):   \n",
    "                    self.R_est[u,i] += (self.P[u,:] + self.Y_sum[u,:]) @ self.Q[:,i]\n",
    "            "
   ]
  },
  {
   "cell_type": "markdown",
   "metadata": {},
   "source": [
    "# Сравнение работы алгоритмов"
   ]
  },
  {
   "cell_type": "code",
   "execution_count": 13,
   "metadata": {},
   "outputs": [],
   "source": [
    "np.random.seed(0)\n",
    "\n",
    "model = SVDpp_SGD(n_factors = 2, n_epochs = 5)\n",
    "\n",
    "model.fit(df)\n",
    "\n",
    "model.train_test_split()"
   ]
  },
  {
   "cell_type": "code",
   "execution_count": 14,
   "metadata": {},
   "outputs": [
    {
     "name": "stderr",
     "output_type": "stream",
     "text": [
      "100%|████████████████████████████████████████████| 5/5 [12:07<00:00, 145.57s/it]\n"
     ]
    }
   ],
   "source": [
    "model.predict()"
   ]
  },
  {
   "cell_type": "code",
   "execution_count": 15,
   "metadata": {},
   "outputs": [
    {
     "data": {
      "text/plain": [
       "2.8568507334147117"
      ]
     },
     "execution_count": 15,
     "metadata": {},
     "output_type": "execute_result"
    }
   ],
   "source": [
    "model.rmse()"
   ]
  },
  {
   "cell_type": "code",
   "execution_count": 12,
   "metadata": {},
   "outputs": [
    {
     "name": "stdout",
     "output_type": "stream",
     "text": [
      "CPU times: user 30.9 s, sys: 73.2 ms, total: 31 s\n",
      "Wall time: 30.2 s\n"
     ]
    },
    {
     "data": {
      "text/plain": [
       "1.1257134181930302"
      ]
     },
     "execution_count": 12,
     "metadata": {},
     "output_type": "execute_result"
    }
   ],
   "source": [
    "%%time\n",
    "np.random.seed(0)\n",
    "\n",
    "model = KnnBasic(mode = 'user_based')\n",
    "\n",
    "model.fit(df)\n",
    "\n",
    "model.train_test_split()\n",
    "\n",
    "model.predict()\n",
    "\n",
    "model.rmse()"
   ]
  },
  {
   "cell_type": "code",
   "execution_count": 13,
   "metadata": {},
   "outputs": [
    {
     "name": "stdout",
     "output_type": "stream",
     "text": [
      "CPU times: user 43.5 s, sys: 168 ms, total: 43.7 s\n",
      "Wall time: 42.9 s\n"
     ]
    },
    {
     "data": {
      "text/plain": [
       "1.208561987314382"
      ]
     },
     "execution_count": 13,
     "metadata": {},
     "output_type": "execute_result"
    }
   ],
   "source": [
    "%%time\n",
    "np.random.seed(0)\n",
    "\n",
    "model = KnnWithMeans(mode = 'user_based')\n",
    "\n",
    "model.fit(df)\n",
    "\n",
    "model.train_test_split()\n",
    "\n",
    "model.predict()\n",
    "\n",
    "model.rmse()"
   ]
  },
  {
   "cell_type": "code",
   "execution_count": 14,
   "metadata": {},
   "outputs": [
    {
     "name": "stdout",
     "output_type": "stream",
     "text": [
      "CPU times: user 19.2 s, sys: 112 ms, total: 19.3 s\n",
      "Wall time: 16.3 s\n"
     ]
    },
    {
     "data": {
      "text/plain": [
       "2.407130130831338"
      ]
     },
     "execution_count": 14,
     "metadata": {},
     "output_type": "execute_result"
    }
   ],
   "source": [
    "%%time\n",
    "np.random.seed(0)\n",
    "\n",
    "model = SVD_SGD(n_factors = 2, n_epochs = 5)\n",
    "\n",
    "model.fit(df)\n",
    "\n",
    "model.train_test_split()\n",
    "\n",
    "model.predict()\n",
    "\n",
    "model.rmse()"
   ]
  },
  {
   "cell_type": "code",
   "execution_count": 16,
   "metadata": {},
   "outputs": [
    {
     "name": "stdout",
     "output_type": "stream",
     "text": [
      "CPU times: user 37.5 s, sys: 116 ms, total: 37.6 s\n",
      "Wall time: 31.5 s\n"
     ]
    },
    {
     "data": {
      "text/plain": [
       "1.5687833582084172"
      ]
     },
     "execution_count": 16,
     "metadata": {},
     "output_type": "execute_result"
    }
   ],
   "source": [
    "%%time\n",
    "np.random.seed(0)\n",
    "\n",
    "model = SVD_SGD(n_factors = 10, n_epochs = 10)\n",
    "\n",
    "model.fit(df)\n",
    "\n",
    "model.train_test_split()\n",
    "\n",
    "model.predict()\n",
    "\n",
    "model.rmse()"
   ]
  },
  {
   "cell_type": "code",
   "execution_count": 18,
   "metadata": {},
   "outputs": [
    {
     "name": "stdout",
     "output_type": "stream",
     "text": [
      "CPU times: user 1min 14s, sys: 224 ms, total: 1min 14s\n",
      "Wall time: 1min 2s\n"
     ]
    },
    {
     "data": {
      "text/plain": [
       "1.3646777528611778"
      ]
     },
     "execution_count": 18,
     "metadata": {},
     "output_type": "execute_result"
    }
   ],
   "source": [
    "%%time\n",
    "np.random.seed(0)\n",
    "\n",
    "model = SVD_SGD(n_factors = 10, n_epochs = 20)\n",
    "\n",
    "model.fit(df)\n",
    "\n",
    "model.train_test_split()\n",
    "\n",
    "model.predict()\n",
    "\n",
    "model.rmse()"
   ]
  },
  {
   "cell_type": "code",
   "execution_count": 15,
   "metadata": {},
   "outputs": [
    {
     "name": "stdout",
     "output_type": "stream",
     "text": [
      "CPU times: user 6.33 s, sys: 12 ms, total: 6.34 s\n",
      "Wall time: 6.32 s\n"
     ]
    },
    {
     "data": {
      "text/plain": [
       "0.9670842371582674"
      ]
     },
     "execution_count": 15,
     "metadata": {},
     "output_type": "execute_result"
    }
   ],
   "source": [
    "%%time\n",
    "\n",
    "np.random.seed(0)\n",
    "\n",
    "model = SVD_ALS(n_factors = 2, n_epochs = 5)\n",
    "\n",
    "model.fit(df)\n",
    "\n",
    "model.train_test_split()\n",
    "\n",
    "model.predict()\n",
    "\n",
    "model.rmse()"
   ]
  },
  {
   "cell_type": "code",
   "execution_count": 17,
   "metadata": {},
   "outputs": [
    {
     "name": "stdout",
     "output_type": "stream",
     "text": [
      "CPU times: user 13.7 s, sys: 28 ms, total: 13.7 s\n",
      "Wall time: 13.2 s\n"
     ]
    },
    {
     "data": {
      "text/plain": [
       "1.5618201831133214"
      ]
     },
     "execution_count": 17,
     "metadata": {},
     "output_type": "execute_result"
    }
   ],
   "source": [
    "%%time\n",
    "\n",
    "np.random.seed(0)\n",
    "\n",
    "model = SVD_ALS(n_factors = 10, n_epochs = 10)\n",
    "\n",
    "model.fit(df)\n",
    "\n",
    "model.train_test_split()\n",
    "\n",
    "model.predict()\n",
    "\n",
    "model.rmse()"
   ]
  },
  {
   "cell_type": "markdown",
   "metadata": {},
   "source": [
    "### Вывод:"
   ]
  },
  {
   "cell_type": "markdown",
   "metadata": {},
   "source": [
    "Заметим, что методы, основанные на KNN оказались более точными в смысле rmse, но и менее быстрыми, нежели градиентные методы SVD. Если выбрать такое количество n_epochs, чтобы время работы  SVD_SGD было примерно таким же, как и методов основанных на KNN, то можно наблюдать, что точность всё равно у KNN выше. \n",
    "\n",
    "SVDpp стоит рассмотреть отдельно, он является самым вычислетельно затратным - работал дольше всех. Стоит также отметить, что для выбранных параметров n_factors = 2, n_epochs = 5 дабы не ожидать исполнения вечность SVDpp не показал прироста в качестве по сравнению с градиентными методами SVD. Так как у SVDpp больше параметров, то и обучается он дольше."
   ]
  },
  {
   "cell_type": "markdown",
   "metadata": {},
   "source": [
    "### Зависимость качества (в смысле RMSE) KNN от k"
   ]
  },
  {
   "cell_type": "code",
   "execution_count": 31,
   "metadata": {},
   "outputs": [
    {
     "name": "stderr",
     "output_type": "stream",
     "text": [
      "100%|███████████████████████████████████████████| 19/19 [11:10<00:00, 35.27s/it]\n"
     ]
    }
   ],
   "source": [
    "k_range = np.arange(1,20)\n",
    "rmse_range = []\n",
    "for k in tqdm(k_range):\n",
    "    np.random.seed(0)\n",
    "    model = KnnBasic(k = k, mode = 'user_based')\n",
    "\n",
    "    model.fit(df)\n",
    "\n",
    "    model.train_test_split()\n",
    "\n",
    "    model.predict()\n",
    "\n",
    "    rmse_range.append(model.rmse())"
   ]
  },
  {
   "cell_type": "code",
   "execution_count": 32,
   "metadata": {},
   "outputs": [
    {
     "data": {
      "image/png": "[encoded data removed]",
      "text/plain": [
       "<Figure size 780x520 with 1 Axes>"
      ]
     },
     "metadata": {
      "needs_background": "light"
     },
     "output_type": "display_data"
    }
   ],
   "source": [
    "plt.figure(figsize = (6, 4), dpi = 130)\n",
    "plt.plot(k_range, rmse_range, label = \"KnnBasic\")\n",
    "plt.xticks(np.arange(1,20))\n",
    "plt.xlabel(\"k\")\n",
    "plt.title(\"RMSE test\")\n",
    "plt.legend()\n",
    "plt.show()"
   ]
  },
  {
   "cell_type": "markdown",
   "metadata": {},
   "source": [
    "Действительно, качество улучшается при увеличении $k$. Видим, как качество постепенно входит на плато, но до точки оптимума пока не дошли."
   ]
  },
  {
   "cell_type": "markdown",
   "metadata": {},
   "source": [
    "### Зависимость качества (в смысле RMSE) SVD от числа факторов n_factors"
   ]
  },
  {
   "cell_type": "code",
   "execution_count": 35,
   "metadata": {},
   "outputs": [
    {
     "name": "stderr",
     "output_type": "stream",
     "text": [
      "100%|██████████████████████████████████████████| 15/15 [39:56<00:00, 159.74s/it]\n"
     ]
    }
   ],
   "source": [
    "n_factors_range = np.array([2, 5, 10, 15, 20, 30, 40, 50, 75, 100, 150, 200, 300, 400, 500])\n",
    "rmse_range_n = []\n",
    "for n in tqdm(n_factors_range):\n",
    "    np.random.seed(0)\n",
    "\n",
    "    model = SVD_ALS(n_epochs = 10, n_factors = n)\n",
    "\n",
    "    model.fit(df)\n",
    "\n",
    "    model.train_test_split()\n",
    "\n",
    "    model.predict()\n",
    "\n",
    "    rmse_range_n.append(model.rmse())"
   ]
  },
  {
   "cell_type": "code",
   "execution_count": 36,
   "metadata": {},
   "outputs": [
    {
     "data": {
      "image/png": "[encoded data removed]",
      "text/plain": [
       "<Figure size 780x520 with 1 Axes>"
      ]
     },
     "metadata": {
      "needs_background": "light"
     },
     "output_type": "display_data"
    }
   ],
   "source": [
    "plt.figure(figsize = (6, 4), dpi = 130)\n",
    "plt.plot(n_factors_range, rmse_range_n, label = \"SVD_ALS\")\n",
    "plt.xlabel(\"n_factors\")\n",
    "plt.title(\"RMSE test\")\n",
    "plt.legend()\n",
    "plt.show()"
   ]
  },
  {
   "cell_type": "markdown",
   "metadata": {},
   "source": [
    "### Зависимость качества (в смысле RMSE) SVD от числа итераций n_epochs в SGD"
   ]
  },
  {
   "cell_type": "code",
   "execution_count": 37,
   "metadata": {},
   "outputs": [
    {
     "name": "stderr",
     "output_type": "stream",
     "text": [
      "100%|█████████████████████████████████████████████| 6/6 [03:42<00:00, 37.03s/it]\n"
     ]
    }
   ],
   "source": [
    "n_epoch_range = np.arange(2, 23, 4)\n",
    "rmse_range_epoch = []\n",
    "for n in tqdm(n_epoch_range):\n",
    "    np.random.seed(0)\n",
    "\n",
    "    model = SVD_SGD(n_epochs = n)\n",
    "\n",
    "    model.fit(df)\n",
    "\n",
    "    model.train_test_split()\n",
    "\n",
    "    model.predict()\n",
    "\n",
    "    rmse_range_epoch.append(model.rmse())"
   ]
  },
  {
   "cell_type": "code",
   "execution_count": 38,
   "metadata": {},
   "outputs": [
    {
     "data": {
      "image/png": "[encoded data removed]",
      "text/plain": [
       "<Figure size 780x520 with 1 Axes>"
      ]
     },
     "metadata": {
      "needs_background": "light"
     },
     "output_type": "display_data"
    }
   ],
   "source": [
    "plt.figure(figsize = (6, 4), dpi = 130)\n",
    "plt.plot(n_epoch_range, rmse_range_epoch, label = \"SVD_SGD\")\n",
    "plt.xlabel(\"n_epochs\")\n",
    "plt.title(\"RMSE test\")\n",
    "plt.legend()\n",
    "plt.show()"
   ]
  },
  {
   "cell_type": "markdown",
   "metadata": {},
   "source": [
    "Действительно, качество улучшается при увеличении числа итераций, с такой скоростью сходится SGD."
   ]
  },
  {
   "cell_type": "code",
   "execution_count": null,
   "metadata": {},
   "outputs": [],
   "source": []
  }
 ],
 "metadata": {
  "kernelspec": {
   "display_name": "Python 3 (ipykernel)",
   "language": "python",
   "name": "python3"
  },
  "language_info": {
   "codemirror_mode": {
    "name": "ipython",
    "version": 3
   },
   "file_extension": ".py",
   "mimetype": "text/x-python",
   "name": "python",
   "nbconvert_exporter": "python",
   "pygments_lexer": "ipython3",
   "version": "3.9.7"
  }
 },
 "nbformat": 4,
 "nbformat_minor": 2
}
