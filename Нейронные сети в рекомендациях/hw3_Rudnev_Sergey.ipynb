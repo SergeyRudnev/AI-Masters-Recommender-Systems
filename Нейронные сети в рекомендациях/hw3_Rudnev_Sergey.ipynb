{
 "cells": [
  {
   "cell_type": "code",
   "execution_count": 1,
   "id": "d54dad7a",
   "metadata": {},
   "outputs": [],
   "source": [
    "import numpy as np\n",
    "import pandas as pd\n",
    "import matplotlib.pyplot as plt\n",
    "import os\n",
    "\n",
    "import torch\n",
    "from torch import nn\n",
    "\n",
    "from sklearn.model_selection import train_test_split\n",
    "from sklearn.model_selection import KFold\n",
    "\n",
    "from sklearn.preprocessing import OneHotEncoder\n",
    "from sklearn.preprocessing import LabelEncoder\n",
    "\n",
    "from torch.utils.data import Dataset, DataLoader\n",
    "\n",
    "from tqdm import tqdm"
   ]
  },
  {
   "cell_type": "markdown",
   "id": "35ecc7b3",
   "metadata": {},
   "source": [
    "# Загрузка и обработка данных"
   ]
  },
  {
   "cell_type": "markdown",
   "id": "8594309c",
   "metadata": {},
   "source": [
    "Отсортируем данные по возрастанию ts"
   ]
  },
  {
   "cell_type": "code",
   "execution_count": 118,
   "id": "be2acb82",
   "metadata": {},
   "outputs": [],
   "source": [
    "dataframe = pd.read_csv('ratings.csv')\n",
    "dataframe.sort_values('ts', inplace = True)\n",
    "dataframe.reset_index(drop=True, inplace = True)\n",
    "dataframe.rename(columns = {'user_uid':'user_id', 'element_uid':'item_id'}, inplace = True)"
   ]
  },
  {
   "cell_type": "markdown",
   "id": "b20bc8aa",
   "metadata": {},
   "source": [
    "Воспользуемся LabelEncoder для юзеров и айтемов"
   ]
  },
  {
   "cell_type": "code",
   "execution_count": 119,
   "id": "5c7613c1",
   "metadata": {},
   "outputs": [],
   "source": [
    "u_enc = LabelEncoder()\n",
    "i_enc = LabelEncoder()\n",
    "dataframe['user_id'] = u_enc.fit_transform(dataframe['user_id'])\n",
    "dataframe['item_id'] = i_enc.fit_transform(dataframe['item_id'])"
   ]
  },
  {
   "cell_type": "code",
   "execution_count": 107,
   "id": "e599f19b",
   "metadata": {},
   "outputs": [
    {
     "data": {
      "text/html": [
       "<div>\n",
       "<style scoped>\n",
       "    .dataframe tbody tr th:only-of-type {\n",
       "        vertical-align: middle;\n",
       "    }\n",
       "\n",
       "    .dataframe tbody tr th {\n",
       "        vertical-align: top;\n",
       "    }\n",
       "\n",
       "    .dataframe thead th {\n",
       "        text-align: right;\n",
       "    }\n",
       "</style>\n",
       "<table border=\"1\" class=\"dataframe\">\n",
       "  <thead>\n",
       "    <tr style=\"text-align: right;\">\n",
       "      <th></th>\n",
       "      <th>user_id</th>\n",
       "      <th>item_id</th>\n",
       "      <th>rating</th>\n",
       "      <th>ts</th>\n",
       "    </tr>\n",
       "  </thead>\n",
       "  <tbody>\n",
       "    <tr>\n",
       "      <th>0</th>\n",
       "      <td>65882</td>\n",
       "      <td>6586</td>\n",
       "      <td>2</td>\n",
       "      <td>4.173065e+07</td>\n",
       "    </tr>\n",
       "    <tr>\n",
       "      <th>1</th>\n",
       "      <td>86840</td>\n",
       "      <td>5912</td>\n",
       "      <td>7</td>\n",
       "      <td>4.173078e+07</td>\n",
       "    </tr>\n",
       "    <tr>\n",
       "      <th>2</th>\n",
       "      <td>62263</td>\n",
       "      <td>2443</td>\n",
       "      <td>8</td>\n",
       "      <td>4.173079e+07</td>\n",
       "    </tr>\n",
       "    <tr>\n",
       "      <th>3</th>\n",
       "      <td>5710</td>\n",
       "      <td>4521</td>\n",
       "      <td>8</td>\n",
       "      <td>4.173085e+07</td>\n",
       "    </tr>\n",
       "    <tr>\n",
       "      <th>4</th>\n",
       "      <td>30028</td>\n",
       "      <td>1110</td>\n",
       "      <td>8</td>\n",
       "      <td>4.173086e+07</td>\n",
       "    </tr>\n",
       "  </tbody>\n",
       "</table>\n",
       "</div>"
      ],
      "text/plain": [
       "   user_id  item_id  rating            ts\n",
       "0    65882     6586       2  4.173065e+07\n",
       "1    86840     5912       7  4.173078e+07\n",
       "2    62263     2443       8  4.173079e+07\n",
       "3     5710     4521       8  4.173085e+07\n",
       "4    30028     1110       8  4.173086e+07"
      ]
     },
     "execution_count": 107,
     "metadata": {},
     "output_type": "execute_result"
    }
   ],
   "source": [
    "dataframe.head()"
   ]
  },
  {
   "cell_type": "markdown",
   "id": "da5ebae8",
   "metadata": {},
   "source": [
    "Напишем класс для хранения данных"
   ]
  },
  {
   "cell_type": "code",
   "execution_count": 5,
   "id": "388d1e5d",
   "metadata": {},
   "outputs": [],
   "source": [
    "class RatingsDataset(Dataset):\n",
    "    \n",
    "    def __init__(self, X, y=None):\n",
    "\n",
    "        self.users = X.user_id\n",
    "        self.items = X.item_id\n",
    "        self.ratings = y\n",
    "        \n",
    "    def __len__(self,):\n",
    "\n",
    "        return len(self.users)\n",
    "\n",
    "    def __getitem__(self, i):\n",
    "        \n",
    "        return self.users[i], self.items[i], self.ratings[i]\n",
    "    \n",
    "    @staticmethod\n",
    "    def collate(batch):\n",
    "        \n",
    "        users = torch.tensor([elem[0] for elem in batch])\n",
    "        items = torch.tensor([elem[1] for elem in batch])\n",
    "        ratings = torch.tensor([elem[2] for elem in batch])    \n",
    "        \n",
    "        return users, items, ratings"
   ]
  },
  {
   "cell_type": "markdown",
   "id": "db7a642e",
   "metadata": {},
   "source": [
    "# Построение модели"
   ]
  },
  {
   "cell_type": "code",
   "execution_count": 6,
   "id": "adc527f6",
   "metadata": {},
   "outputs": [],
   "source": [
    "class Block(nn.Module):\n",
    "    def __init__(self, input_size, output_size, activation = \"relu\", dropout = True, p = 0.5):\n",
    "        super().__init__()\n",
    "        \n",
    "        self.linear = nn.Linear(input_size, output_size)\n",
    "        if activation == \"relu\":\n",
    "            self.activation = nn.ReLU()\n",
    "        elif activation == \"elu\":\n",
    "            self.activation = nn.ELU()\n",
    "        elif activation == \"swish\":\n",
    "            self.activation = nn.SiLU()\n",
    "        else:\n",
    "            nn.Identity()\n",
    "        self.dropout = nn.Dropout(p) if dropout else nn.Identity()\n",
    "\n",
    "    def forward(self, x):\n",
    "        y1 = self.linear(x)\n",
    "        y2 = self.activation(y1)\n",
    "        y3 = self.dropout(y2)\n",
    "        return y3"
   ]
  },
  {
   "cell_type": "code",
   "execution_count": 7,
   "id": "acb77aab",
   "metadata": {},
   "outputs": [],
   "source": [
    "class NeuralCF(nn.Module):\n",
    "    def __init__(self, n_users, n_items, n_factors,  hidden_layers_sizes, activations, dropouts, minmax):\n",
    "        super().__init__()\n",
    "        \n",
    "        self.n_factors = n_factors\n",
    "        self.n_users = n_users\n",
    "        self.n_items = n_items\n",
    "        self.min_rating, self.max_rating = minmax\n",
    "        \n",
    "        self.u_emb = nn.Embedding(self.n_users, self.n_factors)\n",
    "        self.i_emb = nn.Embedding(self.n_items, self.n_factors)\n",
    "    \n",
    "        # реализуем первый блок, входная признаковая размерность равна n_factors*2,\n",
    "        # так как мы сначала конкатенируем полученные эмбеддинги для юзеров и айтемов\n",
    "        layers = [Block(2*n_factors, hidden_layers_sizes[0], activation = activations[0], dropout = dropouts[0])]\n",
    "        \n",
    "        for i in range(len(hidden_layers_sizes)-1):\n",
    "            layers.append(Block(hidden_layers_sizes[i], hidden_layers_sizes[i+1], activation = activations[i+1], dropout = dropouts[i+1]))\n",
    "            \n",
    "        layers.append(nn.Linear(hidden_layers_sizes[-1], 1))\n",
    "        \n",
    "        \n",
    "        layers.append(nn.Sigmoid())\n",
    "        \n",
    "        self.net = nn.Sequential(*layers)\n",
    "                \n",
    "\n",
    "    def forward(self, users, items): \n",
    "        \n",
    "        # получим признаки с помощью генерации эмбеддингов для юзеров и айтемов\n",
    "        features = torch.cat([self.u_emb(users), self.i_emb(items)], dim=1)\n",
    "        \n",
    "        out = self.net(features)\n",
    "        \n",
    "        #преобразуем полученные рейтинги из [0,1] в [min_rating, max_rating]\n",
    "        \n",
    "        return (self.max_rating - self.min_rating) * out + self.min_rating     "
   ]
  },
  {
   "cell_type": "code",
   "execution_count": 8,
   "id": "4ce53a27",
   "metadata": {},
   "outputs": [],
   "source": [
    "n_users = len(np.unique(dataframe.user_id))\n",
    "n_items = len(np.unique(dataframe.item_id))"
   ]
  },
  {
   "cell_type": "markdown",
   "id": "a428db04",
   "metadata": {},
   "source": [
    "# Обучение модели"
   ]
  },
  {
   "cell_type": "code",
   "execution_count": 9,
   "id": "dd949ad6",
   "metadata": {},
   "outputs": [],
   "source": [
    "def RMSELoss(y_true, y_pred):\n",
    "    return torch.sqrt(torch.mean((y_true - y_pred)**2))"
   ]
  },
  {
   "cell_type": "code",
   "execution_count": 10,
   "id": "7d39215e",
   "metadata": {},
   "outputs": [],
   "source": [
    "def run_epoch(stage, model, dataloader, loss_fn, optimizer, epoch, device):\n",
    "    \n",
    "    if stage == \"train\":\n",
    "        model.train()\n",
    "        torch.set_grad_enabled(True)\n",
    "    else:\n",
    "        torch.set_grad_enabled(False)\n",
    "        model.eval()\n",
    "\n",
    "    model = model.to(device)\n",
    "    \n",
    "    losses = []\n",
    "    for batch in tqdm(dataloader, total=len(dataloader), desc=f\"epoch: {str(epoch).zfill(3)} | {stage:5}\"):\n",
    "        us, its, ys_true = batch\n",
    "                \n",
    "        ys_pred = model(us.to(device), its.to(device))\n",
    "        loss = loss_fn(ys_pred, ys_true.to(device))\n",
    "\n",
    "        if stage == \"train\":\n",
    "            loss.backward()\n",
    "            optimizer.step()\n",
    "            optimizer.zero_grad()\n",
    "                \n",
    "        losses.append(loss.detach().cpu().item())\n",
    "\n",
    "    return np.mean(losses)"
   ]
  },
  {
   "cell_type": "markdown",
   "id": "976f1ef2",
   "metadata": {},
   "source": [
    "Будем контролировать значение целевой метрики на тестовой выборке и сохранять чекпоинт модели в случае, если он лучший"
   ]
  },
  {
   "cell_type": "code",
   "execution_count": 11,
   "id": "88807bf3",
   "metadata": {},
   "outputs": [],
   "source": [
    "def save_checkpoint(model, filename):\n",
    "\n",
    "    with open(filename, \"wb\") as fp:\n",
    "        torch.save(model.state_dict(), fp)\n",
    "\n",
    "def load_checkpoint(model, filename):\n",
    "\n",
    "    with open(filename, \"rb\") as fp:\n",
    "        state_dict = torch.load(fp, map_location=\"cpu\")\n",
    "    \n",
    "    model.load_state_dict(state_dict)"
   ]
  },
  {
   "cell_type": "code",
   "execution_count": 12,
   "id": "df3ec61f",
   "metadata": {},
   "outputs": [],
   "source": [
    "def run_experiment(model, dataloader_train, dataloader_val, loss_fn, optimizer, num_epochs, device, output_dir):\n",
    "    \n",
    "    train_losses = []\n",
    "    val_losses = []\n",
    "\n",
    "    best_val_loss = np.inf\n",
    "    best_val_loss_epoch = -1\n",
    "    best_val_loss_fn = None\n",
    "\n",
    "    for epoch in range(num_epochs):\n",
    "        train_loss = run_epoch(\"train\", model, dataloader_train, loss_fn, optimizer, epoch, device)\n",
    "        train_losses.append(train_loss)\n",
    "\n",
    "        val_loss = run_epoch(\"val\", model, dataloader_val, loss_fn, optimizer, epoch, device)\n",
    "        val_losses.append(val_loss)\n",
    "\n",
    "        print(f\"epoch: {str(epoch).zfill(3)} | train_loss: {train_loss:5.3f}, val_loss: {val_loss:5.3f} (best: {best_val_loss:5.3f})\")\n",
    "\n",
    "        if val_loss < best_val_loss:\n",
    "\n",
    "            best_val_loss = val_loss\n",
    "            best_val_loss_epoch = epoch\n",
    "\n",
    "            output_fn = os.path.join(output_dir, f\"epoch={str(epoch).zfill(2)}_valloss={best_val_loss:.3f}.pth.tar\")\n",
    "            save_checkpoint(model, output_fn)\n",
    "            print(f\"New checkpoint saved to {output_fn}\")\n",
    "\n",
    "            best_val_loss_fn = output_fn\n",
    "\n",
    "        print()\n",
    "\n",
    "    print (f\"Best val_loss = {best_val_loss:.3f} reached at epoch {best_val_loss_epoch}\")\n",
    "    load_checkpoint(model, best_val_loss_fn)\n",
    "\n",
    "    return train_losses, val_losses, best_val_loss, model"
   ]
  },
  {
   "cell_type": "markdown",
   "id": "00fb48a2",
   "metadata": {},
   "source": [
    "Разбиение данных на обучающую и тестовую выборки без перемешивания"
   ]
  },
  {
   "cell_type": "code",
   "execution_count": 13,
   "id": "e0f59e67",
   "metadata": {},
   "outputs": [],
   "source": [
    "X_train, X_test, y_train, y_test = train_test_split(dataframe.drop(columns = ['rating','ts']), dataframe.rating, test_size=0.2, random_state=42, shuffle = False)"
   ]
  },
  {
   "cell_type": "code",
   "execution_count": 14,
   "id": "95912af1",
   "metadata": {},
   "outputs": [],
   "source": [
    "TrainDataset = RatingsDataset(X_train, y_train)\n",
    "ValDataset = RatingsDataset(X_test.reset_index(drop = True), y_test.reset_index(drop = True))"
   ]
  },
  {
   "cell_type": "code",
   "execution_count": 15,
   "id": "81893bd3",
   "metadata": {},
   "outputs": [
    {
     "name": "stdout",
     "output_type": "stream",
     "text": [
      "cpu\n"
     ]
    }
   ],
   "source": [
    "num_epochs = 5\n",
    "batch_size = 128\n",
    "lr = 3e-4\n",
    "\n",
    "device = torch.device(\"cuda:0\") if torch.cuda.is_available() else torch.device(\"cpu\")\n",
    "print(device)"
   ]
  },
  {
   "cell_type": "code",
   "execution_count": 16,
   "id": "5a812b68",
   "metadata": {},
   "outputs": [],
   "source": [
    "dataloader_train = DataLoader(TrainDataset, \n",
    "                              collate_fn=RatingsDataset.collate, \n",
    "                              batch_size=batch_size, shuffle=True, drop_last=True, \n",
    "                              num_workers=4, pin_memory=True)\n",
    "\n",
    "dataloader_val = DataLoader(ValDataset, \n",
    "                            collate_fn=RatingsDataset.collate, \n",
    "                            batch_size=batch_size, shuffle=False, drop_last=False, \n",
    "                            num_workers=4, pin_memory=True)"
   ]
  },
  {
   "cell_type": "markdown",
   "id": "b98d1b94",
   "metadata": {},
   "source": [
    "Прорверим, что построенная нейросеть работает"
   ]
  },
  {
   "cell_type": "code",
   "execution_count": 17,
   "id": "5e42214e",
   "metadata": {},
   "outputs": [],
   "source": [
    "model = NeuralCF(n_users, n_items, n_factors = 10, hidden_layers_sizes = [16, 16], \n",
    "        activations = [\"relu\", \"relu\"], dropouts = [True, True], minmax = (0,10))\n",
    "loss_fn = RMSELoss\n",
    "optimizer = torch.optim.Adam(model.parameters(), lr = lr)"
   ]
  },
  {
   "cell_type": "code",
   "execution_count": 60,
   "id": "ba9b66b0",
   "metadata": {
    "scrolled": true
   },
   "outputs": [
    {
     "name": "stderr",
     "output_type": "stream",
     "text": [
      "epoch: 000 | train: 100%|██████████████████| 2742/2742 [00:26<00:00, 102.79it/s]\n",
      "epoch: 000 | val  : 100%|████████████████████| 686/686 [00:00<00:00, 749.79it/s]\n"
     ]
    },
    {
     "name": "stdout",
     "output_type": "stream",
     "text": [
      "epoch: 000 | train_loss: 2.365, val_loss: 2.074 (best:   inf)\n",
      "New checkpoint saved to ./epoch=00_valloss=2.074.pth.tar\n",
      "\n"
     ]
    },
    {
     "name": "stderr",
     "output_type": "stream",
     "text": [
      "epoch: 001 | train: 100%|██████████████████| 2742/2742 [00:26<00:00, 102.75it/s]\n",
      "epoch: 001 | val  : 100%|████████████████████| 686/686 [00:00<00:00, 773.50it/s]\n"
     ]
    },
    {
     "name": "stdout",
     "output_type": "stream",
     "text": [
      "epoch: 001 | train_loss: 2.127, val_loss: 2.072 (best: 2.074)\n",
      "New checkpoint saved to ./epoch=01_valloss=2.072.pth.tar\n",
      "\n"
     ]
    },
    {
     "name": "stderr",
     "output_type": "stream",
     "text": [
      "epoch: 002 | train: 100%|██████████████████| 2742/2742 [00:26<00:00, 103.13it/s]\n",
      "epoch: 002 | val  : 100%|████████████████████| 686/686 [00:00<00:00, 780.12it/s]\n"
     ]
    },
    {
     "name": "stdout",
     "output_type": "stream",
     "text": [
      "epoch: 002 | train_loss: 2.093, val_loss: 2.072 (best: 2.072)\n",
      "\n"
     ]
    },
    {
     "name": "stderr",
     "output_type": "stream",
     "text": [
      "epoch: 003 | train: 100%|██████████████████| 2742/2742 [00:26<00:00, 103.12it/s]\n",
      "epoch: 003 | val  : 100%|████████████████████| 686/686 [00:00<00:00, 736.94it/s]\n"
     ]
    },
    {
     "name": "stdout",
     "output_type": "stream",
     "text": [
      "epoch: 003 | train_loss: 2.078, val_loss: 2.073 (best: 2.072)\n",
      "\n"
     ]
    },
    {
     "name": "stderr",
     "output_type": "stream",
     "text": [
      "epoch: 004 | train: 100%|██████████████████| 2742/2742 [00:27<00:00, 101.20it/s]\n",
      "epoch: 004 | val  : 100%|████████████████████| 686/686 [00:00<00:00, 701.00it/s]"
     ]
    },
    {
     "name": "stdout",
     "output_type": "stream",
     "text": [
      "epoch: 004 | train_loss: 2.071, val_loss: 2.072 (best: 2.072)\n",
      "\n",
      "Best val_loss = 2.072 reached at epoch 1\n"
     ]
    },
    {
     "name": "stderr",
     "output_type": "stream",
     "text": [
      "\n"
     ]
    }
   ],
   "source": [
    "train_losses, val_losses, best_val_loss, model = run_experiment(\n",
    "    model, dataloader_train, dataloader_val, loss_fn, optimizer, num_epochs, device, \"./\")"
   ]
  },
  {
   "cell_type": "code",
   "execution_count": 16,
   "id": "37d25e11",
   "metadata": {},
   "outputs": [],
   "source": [
    "def plot_losses(train_losses, val_losses, title):\n",
    "    plt.figure(figsize=(12, 5))\n",
    "    plt.title(title)\n",
    "    plt.plot(train_losses, label=\"train\")\n",
    "    plt.plot(val_losses, label=\"val\")\n",
    "    plt.xlabel(\"epoch\")\n",
    "    plt.ylabel(\"loss\")\n",
    "    plt.grid(True)\n",
    "    plt.legend()\n",
    "    plt.show()"
   ]
  },
  {
   "cell_type": "code",
   "execution_count": 62,
   "id": "14763f42",
   "metadata": {
    "scrolled": false
   },
   "outputs": [
    {
     "data": {
      "image/png": "[encoded data removed]",
      "text/plain": [
       "<Figure size 864x360 with 1 Axes>"
      ]
     },
     "metadata": {
      "needs_background": "light"
     },
     "output_type": "display_data"
    }
   ],
   "source": [
    "plot_losses(train_losses, val_losses, title=\"NCF_baseline\")"
   ]
  },
  {
   "cell_type": "code",
   "execution_count": 17,
   "id": "fd6eb824",
   "metadata": {},
   "outputs": [],
   "source": [
    "def collect_predictions(model, dataloader, device):\n",
    "    model.eval()\n",
    "    model = model.to(device)\n",
    "    torch.set_grad_enabled(False)\n",
    "\n",
    "    preds = []\n",
    "    \n",
    "    for batch in tqdm(dataloader, total=len(dataloader)):\n",
    "        us, its, ys_true = batch\n",
    "\n",
    "        ys_pred = model(us.to(device), its.to(device))\n",
    "        preds.extend(ys_pred.numpy().tolist())\n",
    "        \n",
    "    return preds"
   ]
  },
  {
   "cell_type": "code",
   "execution_count": 64,
   "id": "5aad1607",
   "metadata": {},
   "outputs": [
    {
     "name": "stderr",
     "output_type": "stream",
     "text": [
      "100%|████████████████████████████████████████| 686/686 [00:01<00:00, 633.86it/s]\n"
     ]
    }
   ],
   "source": [
    "y_test_pred = collect_predictions(model, dataloader_val, device)"
   ]
  },
  {
   "cell_type": "markdown",
   "id": "bfde604e",
   "metadata": {},
   "source": [
    "# Валидация модели"
   ]
  },
  {
   "cell_type": "markdown",
   "id": "356bf9da",
   "metadata": {},
   "source": [
    "### 3 полносвязных слоя"
   ]
  },
  {
   "cell_type": "code",
   "execution_count": 72,
   "id": "868289b9",
   "metadata": {},
   "outputs": [],
   "source": [
    "X_train, X_test, y_train, y_test = train_test_split(dataframe.drop(columns = ['rating','ts']), dataframe.rating, test_size=0.2, random_state=42, shuffle = False)\n",
    "\n",
    "TrainDataset = RatingsDataset(X_train, y_train)\n",
    "ValDataset = RatingsDataset(X_test.reset_index(drop = True), y_test.reset_index(drop = True))"
   ]
  },
  {
   "cell_type": "code",
   "execution_count": 73,
   "id": "5f833393",
   "metadata": {},
   "outputs": [],
   "source": [
    "num_epochs = 5\n",
    "batch_size = 128\n",
    "lr = 3e-4"
   ]
  },
  {
   "cell_type": "code",
   "execution_count": 74,
   "id": "1681282d",
   "metadata": {},
   "outputs": [],
   "source": [
    "dataloader_train = DataLoader(TrainDataset, \n",
    "                              collate_fn=RatingsDataset.collate, \n",
    "                              batch_size=batch_size, shuffle=True, drop_last=True, \n",
    "                              num_workers=4, pin_memory=True)\n",
    "\n",
    "dataloader_val = DataLoader(ValDataset, \n",
    "                            collate_fn=RatingsDataset.collate, \n",
    "                            batch_size=batch_size, shuffle=False, drop_last=False, \n",
    "                            num_workers=4, pin_memory=True)"
   ]
  },
  {
   "cell_type": "code",
   "execution_count": 75,
   "id": "4033b9be",
   "metadata": {},
   "outputs": [],
   "source": [
    "model = NeuralCF(n_users, n_items, n_factors = 100, hidden_layers_sizes = [64, 64, 64], \n",
    "        activations = [\"elu\", \"elu\", \"elu\"], dropouts = [True, True, True], minmax = (0,10))\n",
    "loss_fn = RMSELoss\n",
    "optimizer = torch.optim.Adam(model.parameters(), lr = lr)"
   ]
  },
  {
   "cell_type": "code",
   "execution_count": 76,
   "id": "97e78518",
   "metadata": {
    "scrolled": true
   },
   "outputs": [
    {
     "name": "stderr",
     "output_type": "stream",
     "text": [
      "epoch: 000 | train: 100%|███████████████████| 2742/2742 [03:50<00:00, 11.92it/s]\n",
      "epoch: 000 | val  : 100%|████████████████████| 686/686 [00:01<00:00, 473.10it/s]\n"
     ]
    },
    {
     "name": "stdout",
     "output_type": "stream",
     "text": [
      "epoch: 000 | train_loss: 2.134, val_loss: 2.079 (best:   inf)\n",
      "New checkpoint saved to ./epoch=00_valloss=2.079.pth.tar\n",
      "\n"
     ]
    },
    {
     "name": "stderr",
     "output_type": "stream",
     "text": [
      "epoch: 001 | train: 100%|███████████████████| 2742/2742 [04:22<00:00, 10.45it/s]\n",
      "epoch: 001 | val  : 100%|████████████████████| 686/686 [00:01<00:00, 352.48it/s]\n"
     ]
    },
    {
     "name": "stdout",
     "output_type": "stream",
     "text": [
      "epoch: 001 | train_loss: 2.084, val_loss: 2.072 (best: 2.079)\n",
      "New checkpoint saved to ./epoch=01_valloss=2.072.pth.tar\n",
      "\n"
     ]
    },
    {
     "name": "stderr",
     "output_type": "stream",
     "text": [
      "epoch: 002 | train: 100%|███████████████████| 2742/2742 [04:54<00:00,  9.33it/s]\n",
      "epoch: 002 | val  : 100%|████████████████████| 686/686 [00:01<00:00, 388.78it/s]\n"
     ]
    },
    {
     "name": "stdout",
     "output_type": "stream",
     "text": [
      "epoch: 002 | train_loss: 2.077, val_loss: 2.072 (best: 2.072)\n",
      "New checkpoint saved to ./epoch=02_valloss=2.072.pth.tar\n",
      "\n"
     ]
    },
    {
     "name": "stderr",
     "output_type": "stream",
     "text": [
      "epoch: 003 | train: 100%|███████████████████| 2742/2742 [05:18<00:00,  8.60it/s]\n",
      "epoch: 003 | val  : 100%|████████████████████| 686/686 [00:01<00:00, 380.99it/s]\n"
     ]
    },
    {
     "name": "stdout",
     "output_type": "stream",
     "text": [
      "epoch: 003 | train_loss: 2.075, val_loss: 2.071 (best: 2.072)\n",
      "New checkpoint saved to ./epoch=03_valloss=2.071.pth.tar\n",
      "\n"
     ]
    },
    {
     "name": "stderr",
     "output_type": "stream",
     "text": [
      "epoch: 004 | train: 100%|███████████████████| 2742/2742 [05:27<00:00,  8.36it/s]\n",
      "epoch: 004 | val  : 100%|████████████████████| 686/686 [00:01<00:00, 369.95it/s]\n"
     ]
    },
    {
     "name": "stdout",
     "output_type": "stream",
     "text": [
      "epoch: 004 | train_loss: 2.073, val_loss: 2.072 (best: 2.071)\n",
      "\n",
      "Best val_loss = 2.071 reached at epoch 3\n"
     ]
    }
   ],
   "source": [
    "train_losses, val_losses, best_val_loss, model = run_experiment(\n",
    "    model, dataloader_train, dataloader_val, loss_fn, optimizer, num_epochs, device, \"./\")"
   ]
  },
  {
   "cell_type": "code",
   "execution_count": 79,
   "id": "57de4b03",
   "metadata": {},
   "outputs": [
    {
     "data": {
      "image/png": "[encoded data removed]",
      "text/plain": [
       "<Figure size 864x360 with 1 Axes>"
      ]
     },
     "metadata": {
      "needs_background": "light"
     },
     "output_type": "display_data"
    }
   ],
   "source": [
    "plot_losses(train_losses, val_losses, title=\"NCF 3 layers\")"
   ]
  },
  {
   "cell_type": "markdown",
   "id": "60e10176",
   "metadata": {},
   "source": [
    "#### Выберем по кросс-валидации оптимальную функцию активации: relu, elu или swish"
   ]
  },
  {
   "cell_type": "code",
   "execution_count": 82,
   "id": "2fb4c96d",
   "metadata": {},
   "outputs": [],
   "source": [
    "cv = KFold(n_splits = 3)"
   ]
  },
  {
   "cell_type": "markdown",
   "id": "f97b64b3",
   "metadata": {},
   "source": [
    "##### relu"
   ]
  },
  {
   "cell_type": "code",
   "execution_count": 90,
   "id": "74975266",
   "metadata": {
    "scrolled": true
   },
   "outputs": [
    {
     "name": "stderr",
     "output_type": "stream",
     "text": [
      "epoch: 000 | train: 100%|███████████████████| 2285/2285 [00:46<00:00, 49.67it/s]\n",
      "epoch: 000 | val  : 100%|██████████████████| 1143/1143 [00:01<00:00, 672.00it/s]\n"
     ]
    },
    {
     "name": "stdout",
     "output_type": "stream",
     "text": [
      "epoch: 000 | train_loss: 2.236, val_loss: 2.046 (best:   inf)\n",
      "New checkpoint saved to ./epoch=00_valloss=2.046.pth.tar\n",
      "\n"
     ]
    },
    {
     "name": "stderr",
     "output_type": "stream",
     "text": [
      "epoch: 001 | train: 100%|███████████████████| 2285/2285 [00:44<00:00, 51.54it/s]\n",
      "epoch: 001 | val  : 100%|██████████████████| 1143/1143 [00:01<00:00, 632.65it/s]\n"
     ]
    },
    {
     "name": "stdout",
     "output_type": "stream",
     "text": [
      "epoch: 001 | train_loss: 2.121, val_loss: 2.041 (best: 2.046)\n",
      "New checkpoint saved to ./epoch=01_valloss=2.041.pth.tar\n",
      "\n"
     ]
    },
    {
     "name": "stderr",
     "output_type": "stream",
     "text": [
      "epoch: 002 | train: 100%|███████████████████| 2285/2285 [00:44<00:00, 51.30it/s]\n",
      "epoch: 002 | val  : 100%|██████████████████| 1143/1143 [00:02<00:00, 559.57it/s]\n"
     ]
    },
    {
     "name": "stdout",
     "output_type": "stream",
     "text": [
      "epoch: 002 | train_loss: 2.102, val_loss: 2.041 (best: 2.041)\n",
      "\n"
     ]
    },
    {
     "name": "stderr",
     "output_type": "stream",
     "text": [
      "epoch: 003 | train: 100%|███████████████████| 2285/2285 [00:45<00:00, 49.68it/s]\n",
      "epoch: 003 | val  : 100%|██████████████████| 1143/1143 [00:02<00:00, 531.91it/s]\n"
     ]
    },
    {
     "name": "stdout",
     "output_type": "stream",
     "text": [
      "epoch: 003 | train_loss: 2.093, val_loss: 2.041 (best: 2.041)\n",
      "New checkpoint saved to ./epoch=03_valloss=2.041.pth.tar\n",
      "\n"
     ]
    },
    {
     "name": "stderr",
     "output_type": "stream",
     "text": [
      "epoch: 004 | train: 100%|███████████████████| 2285/2285 [00:47<00:00, 48.01it/s]\n",
      "epoch: 004 | val  : 100%|██████████████████| 1143/1143 [00:02<00:00, 510.53it/s]\n"
     ]
    },
    {
     "name": "stdout",
     "output_type": "stream",
     "text": [
      "epoch: 004 | train_loss: 2.088, val_loss: 2.040 (best: 2.041)\n",
      "New checkpoint saved to ./epoch=04_valloss=2.040.pth.tar\n",
      "\n",
      "Best val_loss = 2.040 reached at epoch 4\n"
     ]
    },
    {
     "name": "stderr",
     "output_type": "stream",
     "text": [
      "epoch: 000 | train: 100%|███████████████████| 2285/2285 [00:48<00:00, 47.38it/s]\n",
      "epoch: 000 | val  : 100%|██████████████████| 1143/1143 [00:02<00:00, 482.73it/s]\n"
     ]
    },
    {
     "name": "stdout",
     "output_type": "stream",
     "text": [
      "epoch: 000 | train_loss: 2.277, val_loss: 2.089 (best:   inf)\n",
      "New checkpoint saved to ./epoch=00_valloss=2.089.pth.tar\n",
      "\n"
     ]
    },
    {
     "name": "stderr",
     "output_type": "stream",
     "text": [
      "epoch: 001 | train: 100%|███████████████████| 2285/2285 [00:48<00:00, 47.47it/s]\n",
      "epoch: 001 | val  : 100%|██████████████████| 1143/1143 [00:02<00:00, 471.65it/s]\n"
     ]
    },
    {
     "name": "stdout",
     "output_type": "stream",
     "text": [
      "epoch: 001 | train_loss: 2.117, val_loss: 2.088 (best: 2.089)\n",
      "New checkpoint saved to ./epoch=01_valloss=2.088.pth.tar\n",
      "\n"
     ]
    },
    {
     "name": "stderr",
     "output_type": "stream",
     "text": [
      "epoch: 002 | train: 100%|███████████████████| 2285/2285 [00:49<00:00, 46.20it/s]\n",
      "epoch: 002 | val  : 100%|██████████████████| 1143/1143 [00:02<00:00, 470.24it/s]\n"
     ]
    },
    {
     "name": "stdout",
     "output_type": "stream",
     "text": [
      "epoch: 002 | train_loss: 2.089, val_loss: 2.088 (best: 2.088)\n",
      "New checkpoint saved to ./epoch=02_valloss=2.088.pth.tar\n",
      "\n"
     ]
    },
    {
     "name": "stderr",
     "output_type": "stream",
     "text": [
      "epoch: 003 | train: 100%|███████████████████| 2285/2285 [00:50<00:00, 45.22it/s]\n",
      "epoch: 003 | val  : 100%|██████████████████| 1143/1143 [00:02<00:00, 458.12it/s]\n"
     ]
    },
    {
     "name": "stdout",
     "output_type": "stream",
     "text": [
      "epoch: 003 | train_loss: 2.076, val_loss: 2.088 (best: 2.088)\n",
      "New checkpoint saved to ./epoch=03_valloss=2.088.pth.tar\n",
      "\n"
     ]
    },
    {
     "name": "stderr",
     "output_type": "stream",
     "text": [
      "epoch: 004 | train: 100%|███████████████████| 2285/2285 [00:52<00:00, 43.28it/s]\n",
      "epoch: 004 | val  : 100%|██████████████████| 1143/1143 [00:02<00:00, 445.86it/s]\n"
     ]
    },
    {
     "name": "stdout",
     "output_type": "stream",
     "text": [
      "epoch: 004 | train_loss: 2.068, val_loss: 2.088 (best: 2.088)\n",
      "New checkpoint saved to ./epoch=04_valloss=2.088.pth.tar\n",
      "\n",
      "Best val_loss = 2.088 reached at epoch 4\n"
     ]
    },
    {
     "name": "stderr",
     "output_type": "stream",
     "text": [
      "epoch: 000 | train: 100%|███████████████████| 2285/2285 [00:52<00:00, 43.37it/s]\n",
      "epoch: 000 | val  : 100%|██████████████████| 1143/1143 [00:02<00:00, 435.12it/s]\n"
     ]
    },
    {
     "name": "stdout",
     "output_type": "stream",
     "text": [
      "epoch: 000 | train_loss: 2.232, val_loss: 2.067 (best:   inf)\n",
      "New checkpoint saved to ./epoch=00_valloss=2.067.pth.tar\n",
      "\n"
     ]
    },
    {
     "name": "stderr",
     "output_type": "stream",
     "text": [
      "epoch: 001 | train: 100%|███████████████████| 2285/2285 [01:00<00:00, 37.68it/s]\n",
      "epoch: 001 | val  : 100%|██████████████████| 1143/1143 [00:02<00:00, 423.25it/s]\n"
     ]
    },
    {
     "name": "stdout",
     "output_type": "stream",
     "text": [
      "epoch: 001 | train_loss: 2.109, val_loss: 2.067 (best: 2.067)\n",
      "\n"
     ]
    },
    {
     "name": "stderr",
     "output_type": "stream",
     "text": [
      "epoch: 002 | train: 100%|███████████████████| 2285/2285 [00:55<00:00, 41.33it/s]\n",
      "epoch: 002 | val  : 100%|██████████████████| 1143/1143 [00:02<00:00, 430.29it/s]\n"
     ]
    },
    {
     "name": "stdout",
     "output_type": "stream",
     "text": [
      "epoch: 002 | train_loss: 2.090, val_loss: 2.067 (best: 2.067)\n",
      "New checkpoint saved to ./epoch=02_valloss=2.067.pth.tar\n",
      "\n"
     ]
    },
    {
     "name": "stderr",
     "output_type": "stream",
     "text": [
      "epoch: 003 | train: 100%|███████████████████| 2285/2285 [00:55<00:00, 41.06it/s]\n",
      "epoch: 003 | val  : 100%|██████████████████| 1143/1143 [00:02<00:00, 404.50it/s]\n"
     ]
    },
    {
     "name": "stdout",
     "output_type": "stream",
     "text": [
      "epoch: 003 | train_loss: 2.081, val_loss: 2.067 (best: 2.067)\n",
      "New checkpoint saved to ./epoch=03_valloss=2.067.pth.tar\n",
      "\n"
     ]
    },
    {
     "name": "stderr",
     "output_type": "stream",
     "text": [
      "epoch: 004 | train: 100%|███████████████████| 2285/2285 [00:58<00:00, 39.25it/s]\n",
      "epoch: 004 | val  : 100%|██████████████████| 1143/1143 [00:02<00:00, 404.57it/s]"
     ]
    },
    {
     "name": "stdout",
     "output_type": "stream",
     "text": [
      "epoch: 004 | train_loss: 2.076, val_loss: 2.067 (best: 2.067)\n",
      "\n",
      "Best val_loss = 2.067 reached at epoch 3\n"
     ]
    },
    {
     "name": "stderr",
     "output_type": "stream",
     "text": [
      "\n"
     ]
    }
   ],
   "source": [
    "val_losses_KFold_relu = []\n",
    "train_losses_KFold_relu = []\n",
    "models_KFold = list(np.zeros(cv.get_n_splits()))\n",
    "i = 0\n",
    "\n",
    "for train_index, test_index in cv.split(dataframe.drop(columns = ['rating','ts'])):\n",
    "    x_train, x_test = dataframe.drop(columns = ['rating','ts']).iloc[train_index], dataframe.drop(columns = ['rating','ts']).iloc[test_index]\n",
    "    y_train, y_test = dataframe['rating'].iloc[train_index], dataframe['rating'].iloc[test_index]\n",
    "    \n",
    "    TrainDataset = RatingsDataset(x_train.reset_index(drop = True), y_train.reset_index(drop = True))\n",
    "    ValDataset = RatingsDataset(x_test.reset_index(drop = True), y_test.reset_index(drop = True))\n",
    "    \n",
    "    dataloader_train = DataLoader(TrainDataset, \n",
    "                              collate_fn=RatingsDataset.collate, \n",
    "                              batch_size=batch_size, shuffle=True, drop_last=True, \n",
    "                              num_workers=4, pin_memory=True)\n",
    "\n",
    "    dataloader_val = DataLoader(ValDataset, \n",
    "                            collate_fn=RatingsDataset.collate, \n",
    "                            batch_size=batch_size, shuffle=False, drop_last=False, \n",
    "                            num_workers=4, pin_memory=True)\n",
    "    \n",
    "    models_KFold[i] = NeuralCF(n_users, n_items, n_factors = 20, hidden_layers_sizes = [32, 32, 32], \n",
    "        activations = [\"relu\", \"relu\", \"relu\"], dropouts = [True, True, True], minmax = (0,10))\n",
    "\n",
    "    optimizer = torch.optim.Adam(models_KFold[i].parameters(), lr = lr)\n",
    "    \n",
    "    train_losses, val_losses, best_val_loss, models_KFold[i] = run_experiment(\n",
    "    models_KFold[i], dataloader_train, dataloader_val, loss_fn, optimizer, num_epochs, device, \"./\")\n",
    "    \n",
    "    train_losses_KFold_relu.append(train_losses[-1])\n",
    "    val_losses_KFold_relu.append(best_val_loss)\n",
    "    \n",
    "    i += 1\n",
    "    "
   ]
  },
  {
   "cell_type": "markdown",
   "id": "53e38829",
   "metadata": {},
   "source": [
    "##### elu"
   ]
  },
  {
   "cell_type": "code",
   "execution_count": 94,
   "id": "8b5e13fd",
   "metadata": {
    "scrolled": true
   },
   "outputs": [
    {
     "name": "stderr",
     "output_type": "stream",
     "text": [
      "epoch: 000 | train: 100%|███████████████████| 2285/2285 [00:52<00:00, 43.92it/s]\n",
      "epoch: 000 | val  : 100%|██████████████████| 1143/1143 [00:02<00:00, 444.82it/s]\n"
     ]
    },
    {
     "name": "stdout",
     "output_type": "stream",
     "text": [
      "epoch: 000 | train_loss: 2.226, val_loss: 2.040 (best:   inf)\n",
      "New checkpoint saved to ./epoch=00_valloss=2.040.pth.tar\n",
      "\n"
     ]
    },
    {
     "name": "stderr",
     "output_type": "stream",
     "text": [
      "epoch: 001 | train: 100%|███████████████████| 2285/2285 [00:53<00:00, 42.58it/s]\n",
      "epoch: 001 | val  : 100%|██████████████████| 1143/1143 [00:02<00:00, 434.84it/s]\n"
     ]
    },
    {
     "name": "stdout",
     "output_type": "stream",
     "text": [
      "epoch: 001 | train_loss: 2.110, val_loss: 2.041 (best: 2.040)\n",
      "\n"
     ]
    },
    {
     "name": "stderr",
     "output_type": "stream",
     "text": [
      "epoch: 002 | train: 100%|███████████████████| 2285/2285 [00:54<00:00, 42.19it/s]\n",
      "epoch: 002 | val  : 100%|██████████████████| 1143/1143 [00:02<00:00, 417.13it/s]\n"
     ]
    },
    {
     "name": "stdout",
     "output_type": "stream",
     "text": [
      "epoch: 002 | train_loss: 2.098, val_loss: 2.044 (best: 2.040)\n",
      "\n"
     ]
    },
    {
     "name": "stderr",
     "output_type": "stream",
     "text": [
      "epoch: 003 | train: 100%|███████████████████| 2285/2285 [00:56<00:00, 40.36it/s]\n",
      "epoch: 003 | val  : 100%|██████████████████| 1143/1143 [00:02<00:00, 425.48it/s]\n"
     ]
    },
    {
     "name": "stdout",
     "output_type": "stream",
     "text": [
      "epoch: 003 | train_loss: 2.093, val_loss: 2.041 (best: 2.040)\n",
      "\n"
     ]
    },
    {
     "name": "stderr",
     "output_type": "stream",
     "text": [
      "epoch: 004 | train: 100%|███████████████████| 2285/2285 [00:55<00:00, 41.20it/s]\n",
      "epoch: 004 | val  : 100%|██████████████████| 1143/1143 [00:02<00:00, 424.84it/s]\n"
     ]
    },
    {
     "name": "stdout",
     "output_type": "stream",
     "text": [
      "epoch: 004 | train_loss: 2.089, val_loss: 2.041 (best: 2.040)\n",
      "\n",
      "Best val_loss = 2.040 reached at epoch 0\n"
     ]
    },
    {
     "name": "stderr",
     "output_type": "stream",
     "text": [
      "epoch: 000 | train: 100%|███████████████████| 2285/2285 [00:53<00:00, 43.06it/s]\n",
      "epoch: 000 | val  : 100%|██████████████████| 1143/1143 [00:02<00:00, 410.18it/s]\n"
     ]
    },
    {
     "name": "stdout",
     "output_type": "stream",
     "text": [
      "epoch: 000 | train_loss: 2.200, val_loss: 2.093 (best:   inf)\n",
      "New checkpoint saved to ./epoch=00_valloss=2.093.pth.tar\n",
      "\n"
     ]
    },
    {
     "name": "stderr",
     "output_type": "stream",
     "text": [
      "epoch: 001 | train: 100%|███████████████████| 2285/2285 [00:53<00:00, 42.38it/s]\n",
      "epoch: 001 | val  : 100%|██████████████████| 1143/1143 [00:02<00:00, 401.59it/s]\n"
     ]
    },
    {
     "name": "stdout",
     "output_type": "stream",
     "text": [
      "epoch: 001 | train_loss: 2.090, val_loss: 2.090 (best: 2.093)\n",
      "New checkpoint saved to ./epoch=01_valloss=2.090.pth.tar\n",
      "\n"
     ]
    },
    {
     "name": "stderr",
     "output_type": "stream",
     "text": [
      "epoch: 002 | train: 100%|███████████████████| 2285/2285 [00:54<00:00, 41.92it/s]\n",
      "epoch: 002 | val  : 100%|██████████████████| 1143/1143 [00:02<00:00, 412.87it/s]\n"
     ]
    },
    {
     "name": "stdout",
     "output_type": "stream",
     "text": [
      "epoch: 002 | train_loss: 2.077, val_loss: 2.087 (best: 2.090)\n",
      "New checkpoint saved to ./epoch=02_valloss=2.087.pth.tar\n",
      "\n"
     ]
    },
    {
     "name": "stderr",
     "output_type": "stream",
     "text": [
      "epoch: 003 | train: 100%|███████████████████| 2285/2285 [00:54<00:00, 41.91it/s]\n",
      "epoch: 003 | val  : 100%|██████████████████| 1143/1143 [00:02<00:00, 390.70it/s]\n"
     ]
    },
    {
     "name": "stdout",
     "output_type": "stream",
     "text": [
      "epoch: 003 | train_loss: 2.071, val_loss: 2.087 (best: 2.087)\n",
      "New checkpoint saved to ./epoch=03_valloss=2.087.pth.tar\n",
      "\n"
     ]
    },
    {
     "name": "stderr",
     "output_type": "stream",
     "text": [
      "epoch: 004 | train: 100%|███████████████████| 2285/2285 [00:55<00:00, 41.47it/s]\n",
      "epoch: 004 | val  : 100%|██████████████████| 1143/1143 [00:02<00:00, 393.41it/s]\n"
     ]
    },
    {
     "name": "stdout",
     "output_type": "stream",
     "text": [
      "epoch: 004 | train_loss: 2.066, val_loss: 2.088 (best: 2.087)\n",
      "\n",
      "Best val_loss = 2.087 reached at epoch 3\n"
     ]
    },
    {
     "name": "stderr",
     "output_type": "stream",
     "text": [
      "epoch: 000 | train: 100%|███████████████████| 2285/2285 [00:55<00:00, 41.26it/s]\n",
      "epoch: 000 | val  : 100%|██████████████████| 1143/1143 [00:03<00:00, 333.51it/s]\n"
     ]
    },
    {
     "name": "stdout",
     "output_type": "stream",
     "text": [
      "epoch: 000 | train_loss: 2.218, val_loss: 2.067 (best:   inf)\n",
      "New checkpoint saved to ./epoch=00_valloss=2.067.pth.tar\n",
      "\n"
     ]
    },
    {
     "name": "stderr",
     "output_type": "stream",
     "text": [
      "epoch: 001 | train: 100%|███████████████████| 2285/2285 [01:02<00:00, 36.69it/s]\n",
      "epoch: 001 | val  : 100%|██████████████████| 1143/1143 [00:03<00:00, 362.07it/s]\n"
     ]
    },
    {
     "name": "stdout",
     "output_type": "stream",
     "text": [
      "epoch: 001 | train_loss: 2.100, val_loss: 2.067 (best: 2.067)\n",
      "New checkpoint saved to ./epoch=01_valloss=2.067.pth.tar\n",
      "\n"
     ]
    },
    {
     "name": "stderr",
     "output_type": "stream",
     "text": [
      "epoch: 002 | train: 100%|███████████████████| 2285/2285 [00:59<00:00, 38.38it/s]\n",
      "epoch: 002 | val  : 100%|██████████████████| 1143/1143 [00:03<00:00, 326.16it/s]\n"
     ]
    },
    {
     "name": "stdout",
     "output_type": "stream",
     "text": [
      "epoch: 002 | train_loss: 2.088, val_loss: 2.067 (best: 2.067)\n",
      "New checkpoint saved to ./epoch=02_valloss=2.067.pth.tar\n",
      "\n"
     ]
    },
    {
     "name": "stderr",
     "output_type": "stream",
     "text": [
      "epoch: 003 | train: 100%|███████████████████| 2285/2285 [01:02<00:00, 36.81it/s]\n",
      "epoch: 003 | val  : 100%|██████████████████| 1143/1143 [00:03<00:00, 368.27it/s]\n"
     ]
    },
    {
     "name": "stdout",
     "output_type": "stream",
     "text": [
      "epoch: 003 | train_loss: 2.082, val_loss: 2.067 (best: 2.067)\n",
      "\n"
     ]
    },
    {
     "name": "stderr",
     "output_type": "stream",
     "text": [
      "epoch: 004 | train: 100%|███████████████████| 2285/2285 [00:58<00:00, 39.13it/s]\n",
      "epoch: 004 | val  : 100%|██████████████████| 1143/1143 [00:02<00:00, 403.45it/s]\n"
     ]
    },
    {
     "name": "stdout",
     "output_type": "stream",
     "text": [
      "epoch: 004 | train_loss: 2.078, val_loss: 2.067 (best: 2.067)\n",
      "\n",
      "Best val_loss = 2.067 reached at epoch 2\n"
     ]
    }
   ],
   "source": [
    "val_losses_KFold_elu = []\n",
    "train_losses_KFold_elu = []\n",
    "models_KFold = list(np.zeros(cv.get_n_splits()))\n",
    "i = 0\n",
    "\n",
    "for train_index, test_index in cv.split(dataframe.drop(columns = ['rating','ts'])):\n",
    "    x_train, x_test = dataframe.drop(columns = ['rating','ts']).iloc[train_index], dataframe.drop(columns = ['rating','ts']).iloc[test_index]\n",
    "    y_train, y_test = dataframe['rating'].iloc[train_index], dataframe['rating'].iloc[test_index]\n",
    "    \n",
    "    TrainDataset = RatingsDataset(x_train.reset_index(drop = True), y_train.reset_index(drop = True))\n",
    "    ValDataset = RatingsDataset(x_test.reset_index(drop = True), y_test.reset_index(drop = True))\n",
    "    \n",
    "    dataloader_train = DataLoader(TrainDataset, \n",
    "                              collate_fn=RatingsDataset.collate, \n",
    "                              batch_size=batch_size, shuffle=True, drop_last=True, \n",
    "                              num_workers=4, pin_memory=True)\n",
    "\n",
    "    dataloader_val = DataLoader(ValDataset, \n",
    "                            collate_fn=RatingsDataset.collate, \n",
    "                            batch_size=batch_size, shuffle=False, drop_last=False, \n",
    "                            num_workers=4, pin_memory=True)\n",
    "    \n",
    "    models_KFold[i] = NeuralCF(n_users, n_items, n_factors = 20, hidden_layers_sizes = [32, 32, 32], \n",
    "        activations = [\"elu\", \"elu\", \"elu\"], dropouts = [True, True, True], minmax = (0,10))\n",
    "\n",
    "    optimizer = torch.optim.Adam(models_KFold[i].parameters(), lr = lr)\n",
    "    \n",
    "    train_losses, val_losses, best_val_loss, models_KFold[i] = run_experiment(\n",
    "    models_KFold[i], dataloader_train, dataloader_val, loss_fn, optimizer, num_epochs, device, \"./\")\n",
    "    \n",
    "    train_losses_KFold_elu.append(train_losses[-1])\n",
    "    val_losses_KFold_elu.append(best_val_loss)\n",
    "    \n",
    "    i += 1\n",
    "    "
   ]
  },
  {
   "cell_type": "code",
   "execution_count": 100,
   "id": "deb1a343",
   "metadata": {
    "scrolled": true
   },
   "outputs": [
    {
     "name": "stderr",
     "output_type": "stream",
     "text": [
      "epoch: 000 | train: 100%|███████████████████| 2285/2285 [00:45<00:00, 50.07it/s]\n",
      "epoch: 000 | val  : 100%|██████████████████| 1143/1143 [00:02<00:00, 484.02it/s]\n"
     ]
    },
    {
     "name": "stdout",
     "output_type": "stream",
     "text": [
      "epoch: 000 | train_loss: 2.284, val_loss: 2.041 (best:   inf)\n",
      "New checkpoint saved to ./epoch=00_valloss=2.041.pth.tar\n",
      "\n"
     ]
    },
    {
     "name": "stderr",
     "output_type": "stream",
     "text": [
      "epoch: 001 | train: 100%|███████████████████| 2285/2285 [00:49<00:00, 45.90it/s]\n",
      "epoch: 001 | val  : 100%|██████████████████| 1143/1143 [00:02<00:00, 422.25it/s]\n"
     ]
    },
    {
     "name": "stdout",
     "output_type": "stream",
     "text": [
      "epoch: 001 | train_loss: 2.118, val_loss: 2.040 (best: 2.041)\n",
      "New checkpoint saved to ./epoch=01_valloss=2.040.pth.tar\n",
      "\n"
     ]
    },
    {
     "name": "stderr",
     "output_type": "stream",
     "text": [
      "epoch: 002 | train: 100%|███████████████████| 2285/2285 [00:50<00:00, 45.18it/s]\n",
      "epoch: 002 | val  : 100%|██████████████████| 1143/1143 [00:03<00:00, 380.09it/s]\n"
     ]
    },
    {
     "name": "stdout",
     "output_type": "stream",
     "text": [
      "epoch: 002 | train_loss: 2.108, val_loss: 2.040 (best: 2.040)\n",
      "New checkpoint saved to ./epoch=02_valloss=2.040.pth.tar\n",
      "\n"
     ]
    },
    {
     "name": "stderr",
     "output_type": "stream",
     "text": [
      "epoch: 003 | train: 100%|███████████████████| 2285/2285 [00:52<00:00, 43.12it/s]\n",
      "epoch: 003 | val  : 100%|██████████████████| 1143/1143 [00:02<00:00, 415.50it/s]\n"
     ]
    },
    {
     "name": "stdout",
     "output_type": "stream",
     "text": [
      "epoch: 003 | train_loss: 2.100, val_loss: 2.040 (best: 2.040)\n",
      "New checkpoint saved to ./epoch=03_valloss=2.040.pth.tar\n",
      "\n"
     ]
    },
    {
     "name": "stderr",
     "output_type": "stream",
     "text": [
      "epoch: 004 | train: 100%|███████████████████| 2285/2285 [00:55<00:00, 41.14it/s]\n",
      "epoch: 004 | val  : 100%|██████████████████| 1143/1143 [00:02<00:00, 381.85it/s]\n"
     ]
    },
    {
     "name": "stdout",
     "output_type": "stream",
     "text": [
      "epoch: 004 | train_loss: 2.094, val_loss: 2.040 (best: 2.040)\n",
      "\n",
      "Best val_loss = 2.040 reached at epoch 3\n"
     ]
    },
    {
     "name": "stderr",
     "output_type": "stream",
     "text": [
      "epoch: 000 | train: 100%|███████████████████| 2285/2285 [00:55<00:00, 41.23it/s]\n",
      "epoch: 000 | val  : 100%|██████████████████| 1143/1143 [00:02<00:00, 412.70it/s]\n"
     ]
    },
    {
     "name": "stdout",
     "output_type": "stream",
     "text": [
      "epoch: 000 | train_loss: 2.196, val_loss: 2.094 (best:   inf)\n",
      "New checkpoint saved to ./epoch=00_valloss=2.094.pth.tar\n",
      "\n"
     ]
    },
    {
     "name": "stderr",
     "output_type": "stream",
     "text": [
      "epoch: 001 | train: 100%|███████████████████| 2285/2285 [00:56<00:00, 40.29it/s]\n",
      "epoch: 001 | val  : 100%|██████████████████| 1143/1143 [00:02<00:00, 417.92it/s]\n"
     ]
    },
    {
     "name": "stdout",
     "output_type": "stream",
     "text": [
      "epoch: 001 | train_loss: 2.084, val_loss: 2.088 (best: 2.094)\n",
      "New checkpoint saved to ./epoch=01_valloss=2.088.pth.tar\n",
      "\n"
     ]
    },
    {
     "name": "stderr",
     "output_type": "stream",
     "text": [
      "epoch: 002 | train: 100%|███████████████████| 2285/2285 [00:58<00:00, 39.29it/s]\n",
      "epoch: 002 | val  : 100%|██████████████████| 1143/1143 [00:02<00:00, 415.69it/s]\n"
     ]
    },
    {
     "name": "stdout",
     "output_type": "stream",
     "text": [
      "epoch: 002 | train_loss: 2.076, val_loss: 2.088 (best: 2.088)\n",
      "New checkpoint saved to ./epoch=02_valloss=2.088.pth.tar\n",
      "\n"
     ]
    },
    {
     "name": "stderr",
     "output_type": "stream",
     "text": [
      "epoch: 003 | train: 100%|███████████████████| 2285/2285 [00:54<00:00, 42.00it/s]\n",
      "epoch: 003 | val  : 100%|██████████████████| 1143/1143 [00:02<00:00, 400.41it/s]\n"
     ]
    },
    {
     "name": "stdout",
     "output_type": "stream",
     "text": [
      "epoch: 003 | train_loss: 2.071, val_loss: 2.088 (best: 2.088)\n",
      "\n"
     ]
    },
    {
     "name": "stderr",
     "output_type": "stream",
     "text": [
      "epoch: 004 | train: 100%|███████████████████| 2285/2285 [00:57<00:00, 39.94it/s]\n",
      "epoch: 004 | val  : 100%|██████████████████| 1143/1143 [00:02<00:00, 427.10it/s]\n"
     ]
    },
    {
     "name": "stdout",
     "output_type": "stream",
     "text": [
      "epoch: 004 | train_loss: 2.066, val_loss: 2.088 (best: 2.088)\n",
      "New checkpoint saved to ./epoch=04_valloss=2.088.pth.tar\n",
      "\n",
      "Best val_loss = 2.088 reached at epoch 4\n"
     ]
    },
    {
     "name": "stderr",
     "output_type": "stream",
     "text": [
      "epoch: 000 | train: 100%|███████████████████| 2285/2285 [00:50<00:00, 45.34it/s]\n",
      "epoch: 000 | val  : 100%|██████████████████| 1143/1143 [00:02<00:00, 433.10it/s]\n"
     ]
    },
    {
     "name": "stdout",
     "output_type": "stream",
     "text": [
      "epoch: 000 | train_loss: 2.215, val_loss: 2.067 (best:   inf)\n",
      "New checkpoint saved to ./epoch=00_valloss=2.067.pth.tar\n",
      "\n"
     ]
    },
    {
     "name": "stderr",
     "output_type": "stream",
     "text": [
      "epoch: 001 | train: 100%|███████████████████| 2285/2285 [00:52<00:00, 43.91it/s]\n",
      "epoch: 001 | val  : 100%|██████████████████| 1143/1143 [00:02<00:00, 429.81it/s]\n"
     ]
    },
    {
     "name": "stdout",
     "output_type": "stream",
     "text": [
      "epoch: 001 | train_loss: 2.097, val_loss: 2.067 (best: 2.067)\n",
      "\n"
     ]
    },
    {
     "name": "stderr",
     "output_type": "stream",
     "text": [
      "epoch: 002 | train: 100%|███████████████████| 2285/2285 [00:52<00:00, 43.75it/s]\n",
      "epoch: 002 | val  : 100%|██████████████████| 1143/1143 [00:02<00:00, 426.54it/s]\n"
     ]
    },
    {
     "name": "stdout",
     "output_type": "stream",
     "text": [
      "epoch: 002 | train_loss: 2.088, val_loss: 2.066 (best: 2.067)\n",
      "New checkpoint saved to ./epoch=02_valloss=2.066.pth.tar\n",
      "\n"
     ]
    },
    {
     "name": "stderr",
     "output_type": "stream",
     "text": [
      "epoch: 003 | train: 100%|███████████████████| 2285/2285 [00:52<00:00, 43.32it/s]\n",
      "epoch: 003 | val  : 100%|██████████████████| 1143/1143 [00:02<00:00, 423.34it/s]\n"
     ]
    },
    {
     "name": "stdout",
     "output_type": "stream",
     "text": [
      "epoch: 003 | train_loss: 2.082, val_loss: 2.067 (best: 2.066)\n",
      "\n"
     ]
    },
    {
     "name": "stderr",
     "output_type": "stream",
     "text": [
      "epoch: 004 | train: 100%|███████████████████| 2285/2285 [00:52<00:00, 43.66it/s]\n",
      "epoch: 004 | val  : 100%|██████████████████| 1143/1143 [00:02<00:00, 429.14it/s]"
     ]
    },
    {
     "name": "stdout",
     "output_type": "stream",
     "text": [
      "epoch: 004 | train_loss: 2.078, val_loss: 2.067 (best: 2.066)\n",
      "\n",
      "Best val_loss = 2.066 reached at epoch 2\n"
     ]
    },
    {
     "name": "stderr",
     "output_type": "stream",
     "text": [
      "\n"
     ]
    }
   ],
   "source": [
    "val_losses_KFold_swish = []\n",
    "train_losses_KFold_swish = []\n",
    "models_KFold = list(np.zeros(cv.get_n_splits()))\n",
    "i = 0\n",
    "\n",
    "for train_index, test_index in cv.split(dataframe.drop(columns = ['rating','ts'])):\n",
    "    x_train, x_test = dataframe.drop(columns = ['rating','ts']).iloc[train_index], dataframe.drop(columns = ['rating','ts']).iloc[test_index]\n",
    "    y_train, y_test = dataframe['rating'].iloc[train_index], dataframe['rating'].iloc[test_index]\n",
    "    \n",
    "    TrainDataset = RatingsDataset(x_train.reset_index(drop = True), y_train.reset_index(drop = True))\n",
    "    ValDataset = RatingsDataset(x_test.reset_index(drop = True), y_test.reset_index(drop = True))\n",
    "    \n",
    "    dataloader_train = DataLoader(TrainDataset, \n",
    "                              collate_fn=RatingsDataset.collate, \n",
    "                              batch_size=batch_size, shuffle=True, drop_last=True, \n",
    "                              num_workers=4, pin_memory=True)\n",
    "\n",
    "    dataloader_val = DataLoader(ValDataset, \n",
    "                            collate_fn=RatingsDataset.collate, \n",
    "                            batch_size=batch_size, shuffle=False, drop_last=False, \n",
    "                            num_workers=4, pin_memory=True)\n",
    "    \n",
    "    models_KFold[i] = NeuralCF(n_users, n_items, n_factors = 20, hidden_layers_sizes = [32, 32, 32], \n",
    "        activations = [\"swish\", \"swish\", \"swish\"], dropouts = [True, True, True], minmax = (0,10))\n",
    "\n",
    "    optimizer = torch.optim.Adam(models_KFold[i].parameters(), lr = lr)\n",
    "    \n",
    "    train_losses, val_losses, best_val_loss, models_KFold[i] = run_experiment(\n",
    "    models_KFold[i], dataloader_train, dataloader_val, loss_fn, optimizer, num_epochs, device, \"./\")\n",
    "    \n",
    "    train_losses_KFold_swish.append(train_losses[-1])\n",
    "    val_losses_KFold_swish.append(best_val_loss)\n",
    "    \n",
    "    i += 1"
   ]
  },
  {
   "cell_type": "markdown",
   "id": "bb15978f",
   "metadata": {},
   "source": [
    "Сравним результаты"
   ]
  },
  {
   "cell_type": "markdown",
   "id": "f5626216",
   "metadata": {},
   "source": [
    "Посмотрим на среднее значение RMSE на обучающих выборках"
   ]
  },
  {
   "cell_type": "code",
   "execution_count": 123,
   "id": "ce9a67c6",
   "metadata": {},
   "outputs": [
    {
     "name": "stdout",
     "output_type": "stream",
     "text": [
      "2.0773487205143657\n"
     ]
    }
   ],
   "source": [
    "print(np.mean(train_losses_KFold_relu))"
   ]
  },
  {
   "cell_type": "code",
   "execution_count": 124,
   "id": "3e44dea5",
   "metadata": {},
   "outputs": [
    {
     "name": "stdout",
     "output_type": "stream",
     "text": [
      "2.077614712315176\n"
     ]
    }
   ],
   "source": [
    "print(np.mean(train_losses_KFold_elu))"
   ]
  },
  {
   "cell_type": "code",
   "execution_count": 125,
   "id": "d4c64041",
   "metadata": {},
   "outputs": [
    {
     "name": "stdout",
     "output_type": "stream",
     "text": [
      "2.079531498602235\n"
     ]
    }
   ],
   "source": [
    "print(np.mean(train_losses_KFold_swish))"
   ]
  },
  {
   "cell_type": "markdown",
   "id": "8e999855",
   "metadata": {},
   "source": [
    "Посмотрим на среднее значение RMSE на валидационных выборках"
   ]
  },
  {
   "cell_type": "code",
   "execution_count": 126,
   "id": "c74aec6a",
   "metadata": {},
   "outputs": [
    {
     "name": "stdout",
     "output_type": "stream",
     "text": [
      "2.0647565019690424\n"
     ]
    }
   ],
   "source": [
    "print(np.mean(val_losses_KFold_relu))"
   ]
  },
  {
   "cell_type": "code",
   "execution_count": 127,
   "id": "637ef8c3",
   "metadata": {},
   "outputs": [
    {
     "name": "stdout",
     "output_type": "stream",
     "text": [
      "2.0646013982374556\n"
     ]
    }
   ],
   "source": [
    "print(np.mean(val_losses_KFold_elu))"
   ]
  },
  {
   "cell_type": "code",
   "execution_count": 128,
   "id": "e3766918",
   "metadata": {},
   "outputs": [
    {
     "name": "stdout",
     "output_type": "stream",
     "text": [
      "2.0647608983895633\n"
     ]
    }
   ],
   "source": [
    "print(np.mean(val_losses_KFold_swish))"
   ]
  },
  {
   "cell_type": "markdown",
   "id": "b7689786",
   "metadata": {},
   "source": [
    "##### Вывод: \n",
    "Можем наблюдать, что резльтаты примерно одинаковые и отличаются незначительно. На используемом датасете быстрее модель обучалась при применении relu, так как среднее качество на обучающих выборках при применении relu оказалось наилучшем в смысле RMSE. При этом лучшее среднее качество на валидационных выборках показала elu. Также стоит отметить, что хуже всех себя показала третья функция активации swish(дейсительно, она больше подходит для глубоких нейронных сетей). Будем импользовать elu для 3 слоёв"
   ]
  },
  {
   "cell_type": "markdown",
   "id": "bbbfe2ea",
   "metadata": {},
   "source": [
    "### 5 полносвязных слоёв"
   ]
  },
  {
   "cell_type": "markdown",
   "id": "eb27917b",
   "metadata": {},
   "source": [
    "#### Выберем по кросс-валидации оптимальную функцию активации: relu, elu или swish"
   ]
  },
  {
   "cell_type": "code",
   "execution_count": 106,
   "id": "657e4051",
   "metadata": {},
   "outputs": [],
   "source": [
    "num_epochs = 5\n",
    "batch_size = 128\n",
    "lr = 3e-4"
   ]
  },
  {
   "cell_type": "code",
   "execution_count": 107,
   "id": "93a51810",
   "metadata": {},
   "outputs": [],
   "source": [
    "cv = KFold(n_splits = 3)"
   ]
  },
  {
   "cell_type": "code",
   "execution_count": 108,
   "id": "58b678cc",
   "metadata": {
    "scrolled": true
   },
   "outputs": [
    {
     "name": "stderr",
     "output_type": "stream",
     "text": [
      "epoch: 000 | train: 100%|███████████████████| 2285/2285 [00:28<00:00, 80.15it/s]\n",
      "epoch: 000 | val  : 100%|██████████████████| 1143/1143 [00:01<00:00, 580.49it/s]\n"
     ]
    },
    {
     "name": "stdout",
     "output_type": "stream",
     "text": [
      "epoch: 000 | train_loss: 2.278, val_loss: 2.043 (best:   inf)\n",
      "New checkpoint saved to ./epoch=00_valloss=2.043.pth.tar\n",
      "\n"
     ]
    },
    {
     "name": "stderr",
     "output_type": "stream",
     "text": [
      "epoch: 001 | train: 100%|███████████████████| 2285/2285 [00:27<00:00, 82.94it/s]\n",
      "epoch: 001 | val  : 100%|██████████████████| 1143/1143 [00:01<00:00, 604.65it/s]\n"
     ]
    },
    {
     "name": "stdout",
     "output_type": "stream",
     "text": [
      "epoch: 001 | train_loss: 2.129, val_loss: 2.041 (best: 2.043)\n",
      "New checkpoint saved to ./epoch=01_valloss=2.041.pth.tar\n",
      "\n"
     ]
    },
    {
     "name": "stderr",
     "output_type": "stream",
     "text": [
      "epoch: 002 | train: 100%|███████████████████| 2285/2285 [00:28<00:00, 80.33it/s]\n",
      "epoch: 002 | val  : 100%|██████████████████| 1143/1143 [00:01<00:00, 618.83it/s]\n"
     ]
    },
    {
     "name": "stdout",
     "output_type": "stream",
     "text": [
      "epoch: 002 | train_loss: 2.103, val_loss: 2.042 (best: 2.041)\n",
      "\n"
     ]
    },
    {
     "name": "stderr",
     "output_type": "stream",
     "text": [
      "epoch: 003 | train: 100%|███████████████████| 2285/2285 [00:27<00:00, 83.36it/s]\n",
      "epoch: 003 | val  : 100%|██████████████████| 1143/1143 [00:01<00:00, 620.55it/s]\n"
     ]
    },
    {
     "name": "stdout",
     "output_type": "stream",
     "text": [
      "epoch: 003 | train_loss: 2.090, val_loss: 2.042 (best: 2.041)\n",
      "\n"
     ]
    },
    {
     "name": "stderr",
     "output_type": "stream",
     "text": [
      "epoch: 004 | train: 100%|███████████████████| 2285/2285 [00:27<00:00, 83.29it/s]\n",
      "epoch: 004 | val  : 100%|██████████████████| 1143/1143 [00:02<00:00, 472.57it/s]\n"
     ]
    },
    {
     "name": "stdout",
     "output_type": "stream",
     "text": [
      "epoch: 004 | train_loss: 2.084, val_loss: 2.041 (best: 2.041)\n",
      "\n",
      "Best val_loss = 2.041 reached at epoch 1\n"
     ]
    },
    {
     "name": "stderr",
     "output_type": "stream",
     "text": [
      "epoch: 000 | train: 100%|███████████████████| 2285/2285 [00:28<00:00, 80.11it/s]\n",
      "epoch: 000 | val  : 100%|██████████████████| 1143/1143 [00:02<00:00, 551.65it/s]\n"
     ]
    },
    {
     "name": "stdout",
     "output_type": "stream",
     "text": [
      "epoch: 000 | train_loss: 2.279, val_loss: 2.087 (best:   inf)\n",
      "New checkpoint saved to ./epoch=00_valloss=2.087.pth.tar\n",
      "\n"
     ]
    },
    {
     "name": "stderr",
     "output_type": "stream",
     "text": [
      "epoch: 001 | train: 100%|███████████████████| 2285/2285 [00:27<00:00, 82.16it/s]\n",
      "epoch: 001 | val  : 100%|██████████████████| 1143/1143 [00:02<00:00, 567.64it/s]\n"
     ]
    },
    {
     "name": "stdout",
     "output_type": "stream",
     "text": [
      "epoch: 001 | train_loss: 2.104, val_loss: 2.087 (best: 2.087)\n",
      "\n"
     ]
    },
    {
     "name": "stderr",
     "output_type": "stream",
     "text": [
      "epoch: 002 | train: 100%|███████████████████| 2285/2285 [00:27<00:00, 82.35it/s]\n",
      "epoch: 002 | val  : 100%|██████████████████| 1143/1143 [00:02<00:00, 545.10it/s]\n"
     ]
    },
    {
     "name": "stdout",
     "output_type": "stream",
     "text": [
      "epoch: 002 | train_loss: 2.080, val_loss: 2.088 (best: 2.087)\n",
      "\n"
     ]
    },
    {
     "name": "stderr",
     "output_type": "stream",
     "text": [
      "epoch: 003 | train: 100%|███████████████████| 2285/2285 [00:28<00:00, 79.68it/s]\n",
      "epoch: 003 | val  : 100%|██████████████████| 1143/1143 [00:02<00:00, 540.36it/s]\n"
     ]
    },
    {
     "name": "stdout",
     "output_type": "stream",
     "text": [
      "epoch: 003 | train_loss: 2.068, val_loss: 2.087 (best: 2.087)\n",
      "\n"
     ]
    },
    {
     "name": "stderr",
     "output_type": "stream",
     "text": [
      "epoch: 004 | train: 100%|███████████████████| 2285/2285 [00:28<00:00, 79.19it/s]\n",
      "epoch: 004 | val  : 100%|██████████████████| 1143/1143 [00:01<00:00, 579.34it/s]\n"
     ]
    },
    {
     "name": "stdout",
     "output_type": "stream",
     "text": [
      "epoch: 004 | train_loss: 2.063, val_loss: 2.087 (best: 2.087)\n",
      "New checkpoint saved to ./epoch=04_valloss=2.087.pth.tar\n",
      "\n",
      "Best val_loss = 2.087 reached at epoch 4\n"
     ]
    },
    {
     "name": "stderr",
     "output_type": "stream",
     "text": [
      "epoch: 000 | train: 100%|███████████████████| 2285/2285 [00:27<00:00, 84.57it/s]\n",
      "epoch: 000 | val  : 100%|██████████████████| 1143/1143 [00:02<00:00, 556.97it/s]\n"
     ]
    },
    {
     "name": "stdout",
     "output_type": "stream",
     "text": [
      "epoch: 000 | train_loss: 2.479, val_loss: 2.067 (best:   inf)\n",
      "New checkpoint saved to ./epoch=00_valloss=2.067.pth.tar\n",
      "\n"
     ]
    },
    {
     "name": "stderr",
     "output_type": "stream",
     "text": [
      "epoch: 001 | train: 100%|███████████████████| 2285/2285 [00:28<00:00, 79.25it/s]\n",
      "epoch: 001 | val  : 100%|██████████████████| 1143/1143 [00:02<00:00, 554.62it/s]\n"
     ]
    },
    {
     "name": "stdout",
     "output_type": "stream",
     "text": [
      "epoch: 001 | train_loss: 2.169, val_loss: 2.067 (best: 2.067)\n",
      "\n"
     ]
    },
    {
     "name": "stderr",
     "output_type": "stream",
     "text": [
      "epoch: 002 | train: 100%|███████████████████| 2285/2285 [00:28<00:00, 79.69it/s]\n",
      "epoch: 002 | val  : 100%|██████████████████| 1143/1143 [00:02<00:00, 526.24it/s]\n"
     ]
    },
    {
     "name": "stdout",
     "output_type": "stream",
     "text": [
      "epoch: 002 | train_loss: 2.110, val_loss: 2.067 (best: 2.067)\n",
      "\n"
     ]
    },
    {
     "name": "stderr",
     "output_type": "stream",
     "text": [
      "epoch: 003 | train: 100%|███████████████████| 2285/2285 [00:28<00:00, 78.82it/s]\n",
      "epoch: 003 | val  : 100%|██████████████████| 1143/1143 [00:02<00:00, 559.33it/s]\n"
     ]
    },
    {
     "name": "stdout",
     "output_type": "stream",
     "text": [
      "epoch: 003 | train_loss: 2.086, val_loss: 2.067 (best: 2.067)\n",
      "\n"
     ]
    },
    {
     "name": "stderr",
     "output_type": "stream",
     "text": [
      "epoch: 004 | train: 100%|███████████████████| 2285/2285 [00:28<00:00, 78.87it/s]\n",
      "epoch: 004 | val  : 100%|██████████████████| 1143/1143 [00:02<00:00, 563.11it/s]"
     ]
    },
    {
     "name": "stdout",
     "output_type": "stream",
     "text": [
      "epoch: 004 | train_loss: 2.075, val_loss: 2.067 (best: 2.067)\n",
      "\n",
      "Best val_loss = 2.067 reached at epoch 0\n"
     ]
    },
    {
     "name": "stderr",
     "output_type": "stream",
     "text": [
      "\n"
     ]
    }
   ],
   "source": [
    "val_losses_KFold_relu_5 = []\n",
    "train_losses_KFold_relu_5 = []\n",
    "models_KFold = list(np.zeros(cv.get_n_splits()))\n",
    "i = 0\n",
    "\n",
    "for train_index, test_index in cv.split(dataframe.drop(columns = ['rating','ts'])):\n",
    "    x_train, x_test = dataframe.drop(columns = ['rating','ts']).iloc[train_index], dataframe.drop(columns = ['rating','ts']).iloc[test_index]\n",
    "    y_train, y_test = dataframe['rating'].iloc[train_index], dataframe['rating'].iloc[test_index]\n",
    "    \n",
    "    TrainDataset = RatingsDataset(x_train.reset_index(drop = True), y_train.reset_index(drop = True))\n",
    "    ValDataset = RatingsDataset(x_test.reset_index(drop = True), y_test.reset_index(drop = True))\n",
    "    \n",
    "    dataloader_train = DataLoader(TrainDataset, \n",
    "                              collate_fn=RatingsDataset.collate, \n",
    "                              batch_size=batch_size, shuffle=True, drop_last=True, \n",
    "                              num_workers=4, pin_memory=True)\n",
    "\n",
    "    dataloader_val = DataLoader(ValDataset, \n",
    "                            collate_fn=RatingsDataset.collate, \n",
    "                            batch_size=batch_size, shuffle=False, drop_last=False, \n",
    "                            num_workers=4, pin_memory=True)\n",
    "    \n",
    "    models_KFold[i] = NeuralCF(n_users, n_items, n_factors = 10, hidden_layers_sizes = [16, 16, 16, 16, 16], \n",
    "        activations = [\"relu\", \"relu\", \"relu\", \"relu\", \"relu\"], dropouts = [True, True, True, True, True], minmax = (0,10))\n",
    "\n",
    "    optimizer = torch.optim.Adam(models_KFold[i].parameters(), lr = lr)\n",
    "    \n",
    "    train_losses, val_losses, best_val_loss, models_KFold[i] = run_experiment(\n",
    "    models_KFold[i], dataloader_train, dataloader_val, loss_fn, optimizer, num_epochs, device, \"./\")\n",
    "    \n",
    "    train_losses_KFold_relu_5.append(train_losses[-1])\n",
    "    val_losses_KFold_relu_5.append(best_val_loss)\n",
    "    \n",
    "    i += 1"
   ]
  },
  {
   "cell_type": "code",
   "execution_count": 109,
   "id": "13dfddda",
   "metadata": {
    "scrolled": true
   },
   "outputs": [
    {
     "name": "stderr",
     "output_type": "stream",
     "text": [
      "epoch: 000 | train: 100%|███████████████████| 2285/2285 [00:30<00:00, 75.83it/s]\n",
      "epoch: 000 | val  : 100%|██████████████████| 1143/1143 [00:02<00:00, 433.88it/s]\n"
     ]
    },
    {
     "name": "stdout",
     "output_type": "stream",
     "text": [
      "epoch: 000 | train_loss: 2.219, val_loss: 2.040 (best:   inf)\n",
      "New checkpoint saved to ./epoch=00_valloss=2.040.pth.tar\n",
      "\n"
     ]
    },
    {
     "name": "stderr",
     "output_type": "stream",
     "text": [
      "epoch: 001 | train: 100%|███████████████████| 2285/2285 [00:34<00:00, 66.75it/s]\n",
      "epoch: 001 | val  : 100%|██████████████████| 1143/1143 [00:02<00:00, 460.14it/s]\n"
     ]
    },
    {
     "name": "stdout",
     "output_type": "stream",
     "text": [
      "epoch: 001 | train_loss: 2.116, val_loss: 2.041 (best: 2.040)\n",
      "\n"
     ]
    },
    {
     "name": "stderr",
     "output_type": "stream",
     "text": [
      "epoch: 002 | train: 100%|███████████████████| 2285/2285 [00:36<00:00, 62.88it/s]\n",
      "epoch: 002 | val  : 100%|██████████████████| 1143/1143 [00:02<00:00, 431.18it/s]\n"
     ]
    },
    {
     "name": "stdout",
     "output_type": "stream",
     "text": [
      "epoch: 002 | train_loss: 2.097, val_loss: 2.040 (best: 2.040)\n",
      "New checkpoint saved to ./epoch=02_valloss=2.040.pth.tar\n",
      "\n"
     ]
    },
    {
     "name": "stderr",
     "output_type": "stream",
     "text": [
      "epoch: 003 | train: 100%|███████████████████| 2285/2285 [00:37<00:00, 61.47it/s]\n",
      "epoch: 003 | val  : 100%|██████████████████| 1143/1143 [00:02<00:00, 445.64it/s]\n"
     ]
    },
    {
     "name": "stdout",
     "output_type": "stream",
     "text": [
      "epoch: 003 | train_loss: 2.089, val_loss: 2.042 (best: 2.040)\n",
      "\n"
     ]
    },
    {
     "name": "stderr",
     "output_type": "stream",
     "text": [
      "epoch: 004 | train: 100%|███████████████████| 2285/2285 [00:37<00:00, 60.85it/s]\n",
      "epoch: 004 | val  : 100%|██████████████████| 1143/1143 [00:02<00:00, 441.52it/s]\n"
     ]
    },
    {
     "name": "stdout",
     "output_type": "stream",
     "text": [
      "epoch: 004 | train_loss: 2.085, val_loss: 2.041 (best: 2.040)\n",
      "\n",
      "Best val_loss = 2.040 reached at epoch 2\n"
     ]
    },
    {
     "name": "stderr",
     "output_type": "stream",
     "text": [
      "epoch: 000 | train: 100%|███████████████████| 2285/2285 [00:37<00:00, 60.61it/s]\n",
      "epoch: 000 | val  : 100%|██████████████████| 1143/1143 [00:02<00:00, 422.28it/s]\n"
     ]
    },
    {
     "name": "stdout",
     "output_type": "stream",
     "text": [
      "epoch: 000 | train_loss: 2.204, val_loss: 2.091 (best:   inf)\n",
      "New checkpoint saved to ./epoch=00_valloss=2.091.pth.tar\n",
      "\n"
     ]
    },
    {
     "name": "stderr",
     "output_type": "stream",
     "text": [
      "epoch: 001 | train: 100%|███████████████████| 2285/2285 [00:38<00:00, 59.59it/s]\n",
      "epoch: 001 | val  : 100%|██████████████████| 1143/1143 [00:02<00:00, 424.06it/s]\n"
     ]
    },
    {
     "name": "stdout",
     "output_type": "stream",
     "text": [
      "epoch: 001 | train_loss: 2.098, val_loss: 2.087 (best: 2.091)\n",
      "New checkpoint saved to ./epoch=01_valloss=2.087.pth.tar\n",
      "\n"
     ]
    },
    {
     "name": "stderr",
     "output_type": "stream",
     "text": [
      "epoch: 002 | train: 100%|███████████████████| 2285/2285 [00:38<00:00, 59.07it/s]\n",
      "epoch: 002 | val  : 100%|██████████████████| 1143/1143 [00:02<00:00, 413.04it/s]\n"
     ]
    },
    {
     "name": "stdout",
     "output_type": "stream",
     "text": [
      "epoch: 002 | train_loss: 2.078, val_loss: 2.087 (best: 2.087)\n",
      "New checkpoint saved to ./epoch=02_valloss=2.087.pth.tar\n",
      "\n"
     ]
    },
    {
     "name": "stderr",
     "output_type": "stream",
     "text": [
      "epoch: 003 | train: 100%|███████████████████| 2285/2285 [00:38<00:00, 59.40it/s]\n",
      "epoch: 003 | val  : 100%|██████████████████| 1143/1143 [00:02<00:00, 492.20it/s]\n"
     ]
    },
    {
     "name": "stdout",
     "output_type": "stream",
     "text": [
      "epoch: 003 | train_loss: 2.068, val_loss: 2.087 (best: 2.087)\n",
      "\n"
     ]
    },
    {
     "name": "stderr",
     "output_type": "stream",
     "text": [
      "epoch: 004 | train: 100%|███████████████████| 2285/2285 [00:35<00:00, 63.59it/s]\n",
      "epoch: 004 | val  : 100%|██████████████████| 1143/1143 [00:02<00:00, 512.58it/s]\n"
     ]
    },
    {
     "name": "stdout",
     "output_type": "stream",
     "text": [
      "epoch: 004 | train_loss: 2.063, val_loss: 2.088 (best: 2.087)\n",
      "\n",
      "Best val_loss = 2.087 reached at epoch 2\n"
     ]
    },
    {
     "name": "stderr",
     "output_type": "stream",
     "text": [
      "epoch: 000 | train: 100%|███████████████████| 2285/2285 [00:32<00:00, 69.64it/s]\n",
      "epoch: 000 | val  : 100%|██████████████████| 1143/1143 [00:02<00:00, 463.63it/s]\n"
     ]
    },
    {
     "name": "stdout",
     "output_type": "stream",
     "text": [
      "epoch: 000 | train_loss: 2.210, val_loss: 2.067 (best:   inf)\n",
      "New checkpoint saved to ./epoch=00_valloss=2.067.pth.tar\n",
      "\n"
     ]
    },
    {
     "name": "stderr",
     "output_type": "stream",
     "text": [
      "epoch: 001 | train: 100%|███████████████████| 2285/2285 [00:34<00:00, 66.56it/s]\n",
      "epoch: 001 | val  : 100%|██████████████████| 1143/1143 [00:02<00:00, 501.06it/s]\n"
     ]
    },
    {
     "name": "stdout",
     "output_type": "stream",
     "text": [
      "epoch: 001 | train_loss: 2.105, val_loss: 2.067 (best: 2.067)\n",
      "New checkpoint saved to ./epoch=01_valloss=2.067.pth.tar\n",
      "\n"
     ]
    },
    {
     "name": "stderr",
     "output_type": "stream",
     "text": [
      "epoch: 002 | train: 100%|███████████████████| 2285/2285 [00:30<00:00, 75.76it/s]\n",
      "epoch: 002 | val  : 100%|██████████████████| 1143/1143 [00:02<00:00, 539.82it/s]\n"
     ]
    },
    {
     "name": "stdout",
     "output_type": "stream",
     "text": [
      "epoch: 002 | train_loss: 2.085, val_loss: 2.068 (best: 2.067)\n",
      "\n"
     ]
    },
    {
     "name": "stderr",
     "output_type": "stream",
     "text": [
      "epoch: 003 | train: 100%|███████████████████| 2285/2285 [00:29<00:00, 76.99it/s]\n",
      "epoch: 003 | val  : 100%|██████████████████| 1143/1143 [00:02<00:00, 558.60it/s]\n"
     ]
    },
    {
     "name": "stdout",
     "output_type": "stream",
     "text": [
      "epoch: 003 | train_loss: 2.076, val_loss: 2.067 (best: 2.067)\n",
      "\n"
     ]
    },
    {
     "name": "stderr",
     "output_type": "stream",
     "text": [
      "epoch: 004 | train: 100%|███████████████████| 2285/2285 [00:29<00:00, 77.43it/s]\n",
      "epoch: 004 | val  : 100%|██████████████████| 1143/1143 [00:02<00:00, 520.11it/s]"
     ]
    },
    {
     "name": "stdout",
     "output_type": "stream",
     "text": [
      "epoch: 004 | train_loss: 2.072, val_loss: 2.067 (best: 2.067)\n",
      "\n",
      "Best val_loss = 2.067 reached at epoch 1\n"
     ]
    },
    {
     "name": "stderr",
     "output_type": "stream",
     "text": [
      "\n"
     ]
    }
   ],
   "source": [
    "val_losses_KFold_elu_5 = []\n",
    "train_losses_KFold_elu_5 = []\n",
    "models_KFold = list(np.zeros(cv.get_n_splits()))\n",
    "i = 0\n",
    "\n",
    "for train_index, test_index in cv.split(dataframe.drop(columns = ['rating','ts'])):\n",
    "    x_train, x_test = dataframe.drop(columns = ['rating','ts']).iloc[train_index], dataframe.drop(columns = ['rating','ts']).iloc[test_index]\n",
    "    y_train, y_test = dataframe['rating'].iloc[train_index], dataframe['rating'].iloc[test_index]\n",
    "    \n",
    "    TrainDataset = RatingsDataset(x_train.reset_index(drop = True), y_train.reset_index(drop = True))\n",
    "    ValDataset = RatingsDataset(x_test.reset_index(drop = True), y_test.reset_index(drop = True))\n",
    "    \n",
    "    dataloader_train = DataLoader(TrainDataset, \n",
    "                              collate_fn=RatingsDataset.collate, \n",
    "                              batch_size=batch_size, shuffle=True, drop_last=True, \n",
    "                              num_workers=4, pin_memory=True)\n",
    "\n",
    "    dataloader_val = DataLoader(ValDataset, \n",
    "                            collate_fn=RatingsDataset.collate, \n",
    "                            batch_size=batch_size, shuffle=False, drop_last=False, \n",
    "                            num_workers=4, pin_memory=True)\n",
    "    \n",
    "    models_KFold[i] = NeuralCF(n_users, n_items, n_factors = 10, hidden_layers_sizes = [16, 16, 16, 16, 16], \n",
    "        activations = [\"elu\", \"elu\", \"elu\", \"elu\", \"elu\"], dropouts = [True, True, True, True, True], minmax = (0,10))\n",
    "\n",
    "    optimizer = torch.optim.Adam(models_KFold[i].parameters(), lr = lr)\n",
    "    \n",
    "    train_losses, val_losses, best_val_loss, models_KFold[i] = run_experiment(\n",
    "    models_KFold[i], dataloader_train, dataloader_val, loss_fn, optimizer, num_epochs, device, \"./\")\n",
    "    \n",
    "    train_losses_KFold_elu_5.append(train_losses[-1])\n",
    "    val_losses_KFold_elu_5.append(best_val_loss)\n",
    "    \n",
    "    i += 1"
   ]
  },
  {
   "cell_type": "code",
   "execution_count": 111,
   "id": "e4352ac4",
   "metadata": {
    "scrolled": true
   },
   "outputs": [
    {
     "name": "stderr",
     "output_type": "stream",
     "text": [
      "epoch: 000 | train: 100%|███████████████████| 2285/2285 [00:26<00:00, 86.93it/s]\n",
      "epoch: 000 | val  : 100%|██████████████████| 1143/1143 [00:01<00:00, 610.13it/s]\n"
     ]
    },
    {
     "name": "stdout",
     "output_type": "stream",
     "text": [
      "epoch: 000 | train_loss: 2.370, val_loss: 2.042 (best:   inf)\n",
      "New checkpoint saved to ./epoch=00_valloss=2.042.pth.tar\n",
      "\n"
     ]
    },
    {
     "name": "stderr",
     "output_type": "stream",
     "text": [
      "epoch: 001 | train: 100%|███████████████████| 2285/2285 [00:26<00:00, 86.73it/s]\n",
      "epoch: 001 | val  : 100%|██████████████████| 1143/1143 [00:01<00:00, 602.02it/s]\n"
     ]
    },
    {
     "name": "stdout",
     "output_type": "stream",
     "text": [
      "epoch: 001 | train_loss: 2.145, val_loss: 2.040 (best: 2.042)\n",
      "New checkpoint saved to ./epoch=01_valloss=2.040.pth.tar\n",
      "\n"
     ]
    },
    {
     "name": "stderr",
     "output_type": "stream",
     "text": [
      "epoch: 002 | train: 100%|███████████████████| 2285/2285 [00:26<00:00, 86.48it/s]\n",
      "epoch: 002 | val  : 100%|██████████████████| 1143/1143 [00:01<00:00, 599.48it/s]\n"
     ]
    },
    {
     "name": "stdout",
     "output_type": "stream",
     "text": [
      "epoch: 002 | train_loss: 2.120, val_loss: 2.040 (best: 2.040)\n",
      "New checkpoint saved to ./epoch=02_valloss=2.040.pth.tar\n",
      "\n"
     ]
    },
    {
     "name": "stderr",
     "output_type": "stream",
     "text": [
      "epoch: 003 | train: 100%|███████████████████| 2285/2285 [00:26<00:00, 85.87it/s]\n",
      "epoch: 003 | val  : 100%|██████████████████| 1143/1143 [00:01<00:00, 610.97it/s]\n"
     ]
    },
    {
     "name": "stdout",
     "output_type": "stream",
     "text": [
      "epoch: 003 | train_loss: 2.103, val_loss: 2.041 (best: 2.040)\n",
      "\n"
     ]
    },
    {
     "name": "stderr",
     "output_type": "stream",
     "text": [
      "epoch: 004 | train: 100%|███████████████████| 2285/2285 [00:27<00:00, 84.17it/s]\n",
      "epoch: 004 | val  : 100%|██████████████████| 1143/1143 [00:01<00:00, 588.40it/s]\n"
     ]
    },
    {
     "name": "stdout",
     "output_type": "stream",
     "text": [
      "epoch: 004 | train_loss: 2.093, val_loss: 2.041 (best: 2.040)\n",
      "\n",
      "Best val_loss = 2.040 reached at epoch 2\n"
     ]
    },
    {
     "name": "stderr",
     "output_type": "stream",
     "text": [
      "epoch: 000 | train: 100%|███████████████████| 2285/2285 [00:27<00:00, 84.33it/s]\n",
      "epoch: 000 | val  : 100%|██████████████████| 1143/1143 [00:01<00:00, 592.67it/s]\n"
     ]
    },
    {
     "name": "stdout",
     "output_type": "stream",
     "text": [
      "epoch: 000 | train_loss: 2.275, val_loss: 2.093 (best:   inf)\n",
      "New checkpoint saved to ./epoch=00_valloss=2.093.pth.tar\n",
      "\n"
     ]
    },
    {
     "name": "stderr",
     "output_type": "stream",
     "text": [
      "epoch: 001 | train: 100%|███████████████████| 2285/2285 [00:27<00:00, 83.01it/s]\n",
      "epoch: 001 | val  : 100%|██████████████████| 1143/1143 [00:01<00:00, 582.40it/s]\n"
     ]
    },
    {
     "name": "stdout",
     "output_type": "stream",
     "text": [
      "epoch: 001 | train_loss: 2.107, val_loss: 2.092 (best: 2.093)\n",
      "New checkpoint saved to ./epoch=01_valloss=2.092.pth.tar\n",
      "\n"
     ]
    },
    {
     "name": "stderr",
     "output_type": "stream",
     "text": [
      "epoch: 002 | train: 100%|███████████████████| 2285/2285 [00:27<00:00, 83.00it/s]\n",
      "epoch: 002 | val  : 100%|██████████████████| 1143/1143 [00:01<00:00, 573.43it/s]\n"
     ]
    },
    {
     "name": "stdout",
     "output_type": "stream",
     "text": [
      "epoch: 002 | train_loss: 2.088, val_loss: 2.088 (best: 2.092)\n",
      "New checkpoint saved to ./epoch=02_valloss=2.088.pth.tar\n",
      "\n"
     ]
    },
    {
     "name": "stderr",
     "output_type": "stream",
     "text": [
      "epoch: 003 | train: 100%|███████████████████| 2285/2285 [00:28<00:00, 79.83it/s]\n",
      "epoch: 003 | val  : 100%|██████████████████| 1143/1143 [00:02<00:00, 505.40it/s]\n"
     ]
    },
    {
     "name": "stdout",
     "output_type": "stream",
     "text": [
      "epoch: 003 | train_loss: 2.074, val_loss: 2.087 (best: 2.088)\n",
      "New checkpoint saved to ./epoch=03_valloss=2.087.pth.tar\n",
      "\n"
     ]
    },
    {
     "name": "stderr",
     "output_type": "stream",
     "text": [
      "epoch: 004 | train: 100%|███████████████████| 2285/2285 [00:30<00:00, 73.97it/s]\n",
      "epoch: 004 | val  : 100%|██████████████████| 1143/1143 [00:02<00:00, 560.45it/s]\n"
     ]
    },
    {
     "name": "stdout",
     "output_type": "stream",
     "text": [
      "epoch: 004 | train_loss: 2.066, val_loss: 2.088 (best: 2.087)\n",
      "\n",
      "Best val_loss = 2.087 reached at epoch 3\n"
     ]
    },
    {
     "name": "stderr",
     "output_type": "stream",
     "text": [
      "epoch: 000 | train: 100%|███████████████████| 2285/2285 [00:28<00:00, 81.22it/s]\n",
      "epoch: 000 | val  : 100%|██████████████████| 1143/1143 [00:02<00:00, 556.75it/s]\n"
     ]
    },
    {
     "name": "stdout",
     "output_type": "stream",
     "text": [
      "epoch: 000 | train_loss: 2.334, val_loss: 2.068 (best:   inf)\n",
      "New checkpoint saved to ./epoch=00_valloss=2.068.pth.tar\n",
      "\n"
     ]
    },
    {
     "name": "stderr",
     "output_type": "stream",
     "text": [
      "epoch: 001 | train: 100%|███████████████████| 2285/2285 [00:28<00:00, 78.99it/s]\n",
      "epoch: 001 | val  : 100%|██████████████████| 1143/1143 [00:02<00:00, 558.85it/s]\n"
     ]
    },
    {
     "name": "stdout",
     "output_type": "stream",
     "text": [
      "epoch: 001 | train_loss: 2.131, val_loss: 2.067 (best: 2.068)\n",
      "New checkpoint saved to ./epoch=01_valloss=2.067.pth.tar\n",
      "\n"
     ]
    },
    {
     "name": "stderr",
     "output_type": "stream",
     "text": [
      "epoch: 002 | train: 100%|███████████████████| 2285/2285 [00:29<00:00, 78.38it/s]\n",
      "epoch: 002 | val  : 100%|██████████████████| 1143/1143 [00:02<00:00, 549.80it/s]\n"
     ]
    },
    {
     "name": "stdout",
     "output_type": "stream",
     "text": [
      "epoch: 002 | train_loss: 2.105, val_loss: 2.067 (best: 2.067)\n",
      "\n"
     ]
    },
    {
     "name": "stderr",
     "output_type": "stream",
     "text": [
      "epoch: 003 | train: 100%|███████████████████| 2285/2285 [00:29<00:00, 76.58it/s]\n",
      "epoch: 003 | val  : 100%|██████████████████| 1143/1143 [00:02<00:00, 549.68it/s]\n"
     ]
    },
    {
     "name": "stdout",
     "output_type": "stream",
     "text": [
      "epoch: 003 | train_loss: 2.089, val_loss: 2.068 (best: 2.067)\n",
      "\n"
     ]
    },
    {
     "name": "stderr",
     "output_type": "stream",
     "text": [
      "epoch: 004 | train: 100%|███████████████████| 2285/2285 [00:29<00:00, 76.39it/s]\n",
      "epoch: 004 | val  : 100%|██████████████████| 1143/1143 [00:02<00:00, 515.82it/s]"
     ]
    },
    {
     "name": "stdout",
     "output_type": "stream",
     "text": [
      "epoch: 004 | train_loss: 2.079, val_loss: 2.067 (best: 2.067)\n",
      "\n",
      "Best val_loss = 2.067 reached at epoch 1\n"
     ]
    },
    {
     "name": "stderr",
     "output_type": "stream",
     "text": [
      "\n"
     ]
    }
   ],
   "source": [
    "val_losses_KFold_swish_5 = []\n",
    "train_losses_KFold_swish_5 = []\n",
    "models_KFold = list(np.zeros(cv.get_n_splits()))\n",
    "i = 0\n",
    "\n",
    "for train_index, test_index in cv.split(dataframe.drop(columns = ['rating','ts'])):\n",
    "    x_train, x_test = dataframe.drop(columns = ['rating','ts']).iloc[train_index], dataframe.drop(columns = ['rating','ts']).iloc[test_index]\n",
    "    y_train, y_test = dataframe['rating'].iloc[train_index], dataframe['rating'].iloc[test_index]\n",
    "    \n",
    "    TrainDataset = RatingsDataset(x_train.reset_index(drop = True), y_train.reset_index(drop = True))\n",
    "    ValDataset = RatingsDataset(x_test.reset_index(drop = True), y_test.reset_index(drop = True))\n",
    "    \n",
    "    dataloader_train = DataLoader(TrainDataset, \n",
    "                              collate_fn=RatingsDataset.collate, \n",
    "                              batch_size=batch_size, shuffle=True, drop_last=True, \n",
    "                              num_workers=4, pin_memory=True)\n",
    "\n",
    "    dataloader_val = DataLoader(ValDataset, \n",
    "                            collate_fn=RatingsDataset.collate, \n",
    "                            batch_size=batch_size, shuffle=False, drop_last=False, \n",
    "                            num_workers=4, pin_memory=True)\n",
    "    \n",
    "    models_KFold[i] = NeuralCF(n_users, n_items, n_factors = 10, hidden_layers_sizes = [16, 16, 16, 16, 16], \n",
    "        activations = [\"swish\", \"swish\", \"swish\", \"swish\", \"swish\"], dropouts = [True, True, True, True, True], minmax = (0,10))\n",
    "\n",
    "    optimizer = torch.optim.Adam(models_KFold[i].parameters(), lr = lr)\n",
    "    \n",
    "    train_losses, val_losses, best_val_loss, models_KFold[i] = run_experiment(\n",
    "    models_KFold[i], dataloader_train, dataloader_val, loss_fn, optimizer, num_epochs, device, \"./\")\n",
    "    \n",
    "    train_losses_KFold_swish_5.append(train_losses[-1])\n",
    "    val_losses_KFold_swish_5.append(best_val_loss)\n",
    "    \n",
    "    i += 1"
   ]
  },
  {
   "cell_type": "markdown",
   "id": "3d5028c3",
   "metadata": {},
   "source": [
    "Сравним результаты"
   ]
  },
  {
   "cell_type": "markdown",
   "id": "69890262",
   "metadata": {},
   "source": [
    "Посмотрим на среднее значение RMSE на обучающих выборках"
   ]
  },
  {
   "cell_type": "code",
   "execution_count": 130,
   "id": "8117af50",
   "metadata": {},
   "outputs": [
    {
     "name": "stdout",
     "output_type": "stream",
     "text": [
      "2.0740067820058607\n",
      "2.073412503055375\n",
      "2.0794332146905443\n"
     ]
    }
   ],
   "source": [
    "print(np.mean(train_losses_KFold_relu_5))\n",
    "\n",
    "print(np.mean(train_losses_KFold_elu_5))\n",
    "\n",
    "print(np.mean(train_losses_KFold_swish_5))"
   ]
  },
  {
   "cell_type": "markdown",
   "id": "1cb47e10",
   "metadata": {},
   "source": [
    "Посмотрим на среднее значение RMSE на валидационных выборках"
   ]
  },
  {
   "cell_type": "code",
   "execution_count": 131,
   "id": "18e3ce5d",
   "metadata": {},
   "outputs": [
    {
     "name": "stdout",
     "output_type": "stream",
     "text": [
      "2.0649241066145874\n",
      "2.064648535481762\n",
      "2.064598144056777\n"
     ]
    }
   ],
   "source": [
    "print(np.mean(val_losses_KFold_relu_5))\n",
    "\n",
    "print(np.mean(val_losses_KFold_elu_5))\n",
    "\n",
    "print(np.mean(val_losses_KFold_swish_5))"
   ]
  },
  {
   "cell_type": "markdown",
   "id": "4b0df743",
   "metadata": {},
   "source": [
    "##### Вывод: \n",
    "На используемом датасете быстрее модель обучалась при применении elu, так как среднее качество на обучающих выборках при применении relu оказалось наилучшем в смысле RMSE. При этом лучшее среднее качество на валидационных выборках показала swish. Да, такой результат и ожидали получить. Так как теперь в модели уже 5 полносвязных слоёв, а swish больше подходит для глубоких нейронных сетей. Будем импользовать swish для 5 слоёв"
   ]
  },
  {
   "cell_type": "code",
   "execution_count": 132,
   "id": "060c96e8",
   "metadata": {},
   "outputs": [],
   "source": [
    "num_epochs = 5\n",
    "batch_size = 128\n",
    "lr = 3e-4"
   ]
  },
  {
   "cell_type": "code",
   "execution_count": 133,
   "id": "8eecce44",
   "metadata": {},
   "outputs": [],
   "source": [
    "X_train, X_test, y_train, y_test = train_test_split(dataframe.drop(columns = ['rating','ts']), dataframe.rating, test_size=0.2, random_state=42, shuffle = False)\n",
    "\n",
    "TrainDataset = RatingsDataset(X_train, y_train)\n",
    "ValDataset = RatingsDataset(X_test.reset_index(drop = True), y_test.reset_index(drop = True))"
   ]
  },
  {
   "cell_type": "code",
   "execution_count": 134,
   "id": "a4b2b394",
   "metadata": {},
   "outputs": [],
   "source": [
    "num_epochs = 5\n",
    "batch_size = 128\n",
    "lr = 3e-4"
   ]
  },
  {
   "cell_type": "code",
   "execution_count": 135,
   "id": "e2a0293b",
   "metadata": {},
   "outputs": [],
   "source": [
    "dataloader_train = DataLoader(TrainDataset, \n",
    "                              collate_fn=RatingsDataset.collate, \n",
    "                              batch_size=batch_size, shuffle=True, drop_last=True, \n",
    "                              num_workers=4, pin_memory=True)\n",
    "\n",
    "dataloader_val = DataLoader(ValDataset, \n",
    "                            collate_fn=RatingsDataset.collate, \n",
    "                            batch_size=batch_size, shuffle=False, drop_last=False, \n",
    "                            num_workers=4, pin_memory=True)"
   ]
  },
  {
   "cell_type": "markdown",
   "id": "0d7229d7",
   "metadata": {},
   "source": [
    "### Сравним теперь результаты модели с 5 слоями с подобранной функцией активации с результатами модели с 3 слоями с подобранной функцией активации, считая, что остальные параметры фиксированы"
   ]
  },
  {
   "cell_type": "code",
   "execution_count": 138,
   "id": "bbc8c4f1",
   "metadata": {},
   "outputs": [],
   "source": [
    "model = NeuralCF(n_users, n_items, n_factors = 100, hidden_layers_sizes = [64, 64, 64, 64, 64], \n",
    "        activations = [\"swish\", \"swish\", \"swish\", 'swish', \"swish\"], dropouts = [True, True, True, True, True], minmax = (0,10))\n",
    "loss_fn = RMSELoss\n",
    "optimizer = torch.optim.Adam(model.parameters(), lr = lr)"
   ]
  },
  {
   "cell_type": "code",
   "execution_count": 139,
   "id": "4ebccbfb",
   "metadata": {},
   "outputs": [
    {
     "name": "stderr",
     "output_type": "stream",
     "text": [
      "epoch: 000 | train: 100%|███████████████████| 2742/2742 [04:00<00:00, 11.42it/s]\n",
      "epoch: 000 | val  : 100%|████████████████████| 686/686 [00:01<00:00, 348.00it/s]\n"
     ]
    },
    {
     "name": "stdout",
     "output_type": "stream",
     "text": [
      "epoch: 000 | train_loss: 2.147, val_loss: 2.073 (best:   inf)\n",
      "New checkpoint saved to ./epoch=00_valloss=2.073.pth.tar\n",
      "\n"
     ]
    },
    {
     "name": "stderr",
     "output_type": "stream",
     "text": [
      "epoch: 001 | train: 100%|███████████████████| 2742/2742 [05:05<00:00,  8.97it/s]\n",
      "epoch: 001 | val  : 100%|████████████████████| 686/686 [00:01<00:00, 361.01it/s]\n"
     ]
    },
    {
     "name": "stdout",
     "output_type": "stream",
     "text": [
      "epoch: 001 | train_loss: 2.086, val_loss: 2.072 (best: 2.073)\n",
      "New checkpoint saved to ./epoch=01_valloss=2.072.pth.tar\n",
      "\n"
     ]
    },
    {
     "name": "stderr",
     "output_type": "stream",
     "text": [
      "epoch: 002 | train: 100%|███████████████████| 2742/2742 [05:27<00:00,  8.37it/s]\n",
      "epoch: 002 | val  : 100%|████████████████████| 686/686 [00:02<00:00, 336.55it/s]\n"
     ]
    },
    {
     "name": "stdout",
     "output_type": "stream",
     "text": [
      "epoch: 002 | train_loss: 2.082, val_loss: 2.071 (best: 2.072)\n",
      "New checkpoint saved to ./epoch=02_valloss=2.071.pth.tar\n",
      "\n"
     ]
    },
    {
     "name": "stderr",
     "output_type": "stream",
     "text": [
      "epoch: 003 | train: 100%|███████████████████| 2742/2742 [05:42<00:00,  8.01it/s]\n",
      "epoch: 003 | val  : 100%|████████████████████| 686/686 [00:02<00:00, 325.56it/s]\n"
     ]
    },
    {
     "name": "stdout",
     "output_type": "stream",
     "text": [
      "epoch: 003 | train_loss: 2.080, val_loss: 2.071 (best: 2.071)\n",
      "\n"
     ]
    },
    {
     "name": "stderr",
     "output_type": "stream",
     "text": [
      "epoch: 004 | train: 100%|███████████████████| 2742/2742 [05:46<00:00,  7.92it/s]\n",
      "epoch: 004 | val  : 100%|████████████████████| 686/686 [00:02<00:00, 321.18it/s]"
     ]
    },
    {
     "name": "stdout",
     "output_type": "stream",
     "text": [
      "epoch: 004 | train_loss: 2.077, val_loss: 2.071 (best: 2.071)\n",
      "\n",
      "Best val_loss = 2.071 reached at epoch 2\n"
     ]
    },
    {
     "name": "stderr",
     "output_type": "stream",
     "text": [
      "\n"
     ]
    }
   ],
   "source": [
    "train_losses, val_losses, best_val_loss, model = run_experiment(\n",
    "    model, dataloader_train, dataloader_val, loss_fn, optimizer, num_epochs, device, \"./\")"
   ]
  },
  {
   "cell_type": "code",
   "execution_count": 140,
   "id": "f418fc01",
   "metadata": {},
   "outputs": [
    {
     "data": {
      "image/png": "[encoded data removed]",
      "text/plain": [
       "<Figure size 864x360 with 1 Axes>"
      ]
     },
     "metadata": {
      "needs_background": "light"
     },
     "output_type": "display_data"
    }
   ],
   "source": [
    "plot_losses(train_losses, val_losses, title=\"NCF 5 layers\")"
   ]
  },
  {
   "cell_type": "markdown",
   "id": "e0596ed1",
   "metadata": {},
   "source": [
    "##### Вывод:\n",
    "Можем наблюдать,что при проводимых экспериментах для совсем небольшого числа эпох(5) выбранная для сети с большим числом слоёв особая функция активации помогла добиться такого же результата по качеству на валидационной выборке в смысле RMSE как для сети с меньшим числом слоёв. \n",
    "\n",
    "Следовательно вполне естественнно сделать заключение, что при увеличении числа эпох качество для сети с большим числом слоёв превзойдёт качество сети с меньшим числом слоёв.\n",
    "\n",
    "Также отметим, что лосс на обучающей выборке для модели с большим числом слоёв оказался больше, чем для модели с меньшим числом слоёв, что тоже неудивительно, так как для обучения более сложной модели нужно большее количество эпох"
   ]
  },
  {
   "cell_type": "markdown",
   "id": "0c5026cc",
   "metadata": {},
   "source": [
    "### Как можно улучшать архитектуру?"
   ]
  },
  {
   "cell_type": "markdown",
   "id": "7482b4d0",
   "metadata": {},
   "source": [
    "Чтобы улучшить качество, добавим в модель сторонних признаков"
   ]
  },
  {
   "cell_type": "markdown",
   "id": "5ff5c380",
   "metadata": {},
   "source": [
    "#### Добавление признаков"
   ]
  },
  {
   "cell_type": "markdown",
   "id": "bdd83457",
   "metadata": {},
   "source": [
    "`transactions.csv` — список всех транзакций за определённый период времени"
   ]
  },
  {
   "cell_type": "code",
   "execution_count": 48,
   "id": "67336667",
   "metadata": {},
   "outputs": [],
   "source": [
    "transactions = pd.read_csv('transactions.csv',\n",
    "    dtype={\n",
    "        'element_uid': np.uint16,\n",
    "        'user_uid': np.uint32,\n",
    "        'consumption_mode': 'category',\n",
    "        'ts': np.float64,\n",
    "        'watched_time': np.uint64,\n",
    "        'device_type': np.uint8,\n",
    "        'device_manufacturer': np.uint8\n",
    "    }\n",
    ")"
   ]
  },
  {
   "cell_type": "code",
   "execution_count": 49,
   "id": "b31bd836",
   "metadata": {},
   "outputs": [],
   "source": [
    "transactions.rename(columns = {'user_uid':'user_id', 'element_uid':'item_id'}, inplace = True)"
   ]
  },
  {
   "cell_type": "markdown",
   "id": "ebd3dff9",
   "metadata": {},
   "source": [
    " - `item_id` — идентификатор элемента\n",
    " - `user_id` — идентификатор пользователя\n",
    " - `consumption_mode` — тип потребления (`P` — покупка, `R` — аренда, `S` — просмотр по подписке)\n",
    " - `ts` — время совершения транзакции или начала просмотра в случае просмотра по подписке\n",
    " - `watched_time` — число просмотренных по транзакции секунд\n",
    " - `device_type` — анонимизированный тип устройства, с которого была совершена транзакция или начат просмотр\n",
    " - `device_manufacturer` — анонимизированный производитель устройства, с которого была совершена транзакция или начат просмотр"
   ]
  },
  {
   "cell_type": "code",
   "execution_count": 50,
   "id": "1a8dfa27",
   "metadata": {},
   "outputs": [],
   "source": [
    "transactions['user_id'] = u_enc.fit_transform(transactions['user_id'])\n",
    "transactions['item_id'] = i_enc.fit_transform(transactions['item_id'])"
   ]
  },
  {
   "cell_type": "code",
   "execution_count": 51,
   "id": "5b81c058",
   "metadata": {},
   "outputs": [],
   "source": [
    "transactions.sort_values('ts', inplace = True)\n",
    "transactions.reset_index(drop=True, inplace = True)"
   ]
  },
  {
   "cell_type": "code",
   "execution_count": 74,
   "id": "4d81fa40",
   "metadata": {},
   "outputs": [
    {
     "data": {
      "text/html": [
       "<div>\n",
       "<style scoped>\n",
       "    .dataframe tbody tr th:only-of-type {\n",
       "        vertical-align: middle;\n",
       "    }\n",
       "\n",
       "    .dataframe tbody tr th {\n",
       "        vertical-align: top;\n",
       "    }\n",
       "\n",
       "    .dataframe thead th {\n",
       "        text-align: right;\n",
       "    }\n",
       "</style>\n",
       "<table border=\"1\" class=\"dataframe\">\n",
       "  <thead>\n",
       "    <tr style=\"text-align: right;\">\n",
       "      <th></th>\n",
       "      <th>item_id</th>\n",
       "      <th>user_id</th>\n",
       "      <th>consumption_mode</th>\n",
       "      <th>ts</th>\n",
       "      <th>watched_time</th>\n",
       "      <th>device_type</th>\n",
       "      <th>device_manufacturer</th>\n",
       "    </tr>\n",
       "  </thead>\n",
       "  <tbody>\n",
       "    <tr>\n",
       "      <th>0</th>\n",
       "      <td>5021</td>\n",
       "      <td>238768</td>\n",
       "      <td>S</td>\n",
       "      <td>4.173063e+07</td>\n",
       "      <td>19586</td>\n",
       "      <td>0</td>\n",
       "      <td>11</td>\n",
       "    </tr>\n",
       "    <tr>\n",
       "      <th>1</th>\n",
       "      <td>4946</td>\n",
       "      <td>49740</td>\n",
       "      <td>S</td>\n",
       "      <td>4.173063e+07</td>\n",
       "      <td>6831</td>\n",
       "      <td>0</td>\n",
       "      <td>50</td>\n",
       "    </tr>\n",
       "    <tr>\n",
       "      <th>2</th>\n",
       "      <td>7221</td>\n",
       "      <td>42432</td>\n",
       "      <td>S</td>\n",
       "      <td>4.173063e+07</td>\n",
       "      <td>5763</td>\n",
       "      <td>0</td>\n",
       "      <td>11</td>\n",
       "    </tr>\n",
       "    <tr>\n",
       "      <th>3</th>\n",
       "      <td>6847</td>\n",
       "      <td>386167</td>\n",
       "      <td>S</td>\n",
       "      <td>4.173063e+07</td>\n",
       "      <td>8360</td>\n",
       "      <td>0</td>\n",
       "      <td>50</td>\n",
       "    </tr>\n",
       "    <tr>\n",
       "      <th>4</th>\n",
       "      <td>1807</td>\n",
       "      <td>152191</td>\n",
       "      <td>S</td>\n",
       "      <td>4.173063e+07</td>\n",
       "      <td>2503</td>\n",
       "      <td>0</td>\n",
       "      <td>11</td>\n",
       "    </tr>\n",
       "  </tbody>\n",
       "</table>\n",
       "</div>"
      ],
      "text/plain": [
       "   item_id  user_id consumption_mode            ts  watched_time  device_type  \\\n",
       "0     5021   238768                S  4.173063e+07         19586            0   \n",
       "1     4946    49740                S  4.173063e+07          6831            0   \n",
       "2     7221    42432                S  4.173063e+07          5763            0   \n",
       "3     6847   386167                S  4.173063e+07          8360            0   \n",
       "4     1807   152191                S  4.173063e+07          2503            0   \n",
       "\n",
       "   device_manufacturer  \n",
       "0                   11  \n",
       "1                   50  \n",
       "2                   11  \n",
       "3                   50  \n",
       "4                   11  "
      ]
     },
     "execution_count": 74,
     "metadata": {},
     "output_type": "execute_result"
    }
   ],
   "source": [
    "transactions.head()"
   ]
  },
  {
   "cell_type": "code",
   "execution_count": 120,
   "id": "667ce9fb",
   "metadata": {},
   "outputs": [],
   "source": [
    "dataframe.set_index('user_id', inplace = True)"
   ]
  },
  {
   "cell_type": "code",
   "execution_count": 121,
   "id": "f61ab2e1",
   "metadata": {
    "scrolled": true
   },
   "outputs": [],
   "source": [
    "devices_number = transactions.groupby('user_id')['device_type'].nunique()\n",
    "devices_number = devices_number.rename('devices_number')\n",
    "dataframe = dataframe.join(devices_number)"
   ]
  },
  {
   "cell_type": "code",
   "execution_count": 125,
   "id": "43e43d80",
   "metadata": {},
   "outputs": [],
   "source": [
    "mean_watched_time = transactions.groupby('user_id')['watched_time'].mean() \n",
    "mean_watched_time = mean_watched_time.rename('mean_watched_time')\n",
    "dataframe = dataframe.join(mean_watched_time)"
   ]
  },
  {
   "cell_type": "code",
   "execution_count": 134,
   "id": "2240be8e",
   "metadata": {},
   "outputs": [],
   "source": [
    "number_of_actions = transactions.groupby('user_id')['consumption_mode'].count()\n",
    "number_of_actions = number_of_actions.rename('number_of_actions')\n",
    "dataframe = dataframe.join(number_of_actions)"
   ]
  },
  {
   "cell_type": "code",
   "execution_count": 138,
   "id": "8661166e",
   "metadata": {},
   "outputs": [],
   "source": [
    "dataframe.sort_values('ts', inplace = True)"
   ]
  },
  {
   "cell_type": "code",
   "execution_count": 140,
   "id": "f12fda3e",
   "metadata": {},
   "outputs": [],
   "source": [
    "dataframe.reset_index(inplace = True)"
   ]
  },
  {
   "cell_type": "markdown",
   "id": "2836d6c3",
   "metadata": {},
   "source": [
    "### Построение модели"
   ]
  },
  {
   "cell_type": "code",
   "execution_count": 242,
   "id": "fa95d6b0",
   "metadata": {},
   "outputs": [],
   "source": [
    "class RatingsDatasetWithFeatures(Dataset):\n",
    "    \n",
    "    def __init__(self, X, y=None):\n",
    "\n",
    "        self.users = X.user_id\n",
    "        self.items = X.item_id\n",
    "        self.ratings = y\n",
    "        # добавили признаки\n",
    "        self.another_features = X.drop(columns = ['user_id','item_id']).values\n",
    "        \n",
    "    def __len__(self,):\n",
    "\n",
    "        return len(self.users)\n",
    "\n",
    "    def __getitem__(self, i):\n",
    "        \n",
    "        return self.users[i], self.items[i], self.ratings[i], self.another_features[i]\n",
    "    \n",
    "    @staticmethod\n",
    "    def collate(batch):\n",
    "\n",
    "        users = torch.tensor([elem[0] for elem in batch])\n",
    "        items = torch.tensor([elem[1] for elem in batch])\n",
    "        ratings = torch.tensor([elem[2] for elem in batch])    \n",
    "        another_features = torch.tensor([elem[3] for elem in batch])\n",
    "        \n",
    "        return users, items, ratings, another_features"
   ]
  },
  {
   "cell_type": "code",
   "execution_count": 226,
   "id": "0d021625",
   "metadata": {},
   "outputs": [],
   "source": [
    "class NeuralCF_modern(nn.Module):\n",
    "    def __init__(self, n_extra_features, n_users, n_items, n_factors,  hidden_layers_sizes, activations, dropouts, minmax):\n",
    "        super().__init__()\n",
    "        \n",
    "        self.n_extra_features = n_extra_features\n",
    "        self.n_factors = n_factors\n",
    "        self.n_users = n_users\n",
    "        self.n_items = n_items\n",
    "        self.min_rating, self.max_rating = minmax\n",
    "        \n",
    "        self.u_emb = nn.Embedding(self.n_users, self.n_factors)\n",
    "        self.i_emb = nn.Embedding(self.n_items, self.n_factors)\n",
    "    \n",
    "        # реализуем первый блок, входная признаковая размерность равна n_factors*2 + n_extra_features,\n",
    "        # так как мы сначала конкатенируем полученные эмбеддинги для юзеров и айтемом и дополнительные признаки\n",
    "        layers = [Block(2*n_factors + n_extra_features, hidden_layers_sizes[0], activation = activations[0], dropout = dropouts[0])]\n",
    "        \n",
    "        for i in range(len(hidden_layers_sizes)-1):\n",
    "            layers.append(Block(hidden_layers_sizes[i], hidden_layers_sizes[i+1], activation = activations[i+1], dropout = dropouts[i+1]))\n",
    "            \n",
    "        layers.append(nn.Linear(hidden_layers_sizes[-1], 1))\n",
    "        \n",
    "        \n",
    "        layers.append(nn.Sigmoid())\n",
    "        \n",
    "        self.net = nn.Sequential(*layers)\n",
    "                \n",
    "\n",
    "    def forward(self, users, items, another_features): \n",
    "        \n",
    "        # получим признаки с помощью генерации эмбеддингов для юзеров и айтемов\n",
    "        features = torch.cat([self.u_emb(users), self.i_emb(items), another_features.float()], dim=1)\n",
    "        out = self.net(features)\n",
    "        \n",
    "        #преобразуем полученные рейтинги из [0,1] в [min_rating, max_rating]\n",
    "        \n",
    "        return (self.max_rating - self.min_rating) * out + self.min_rating     "
   ]
  },
  {
   "cell_type": "code",
   "execution_count": 227,
   "id": "c58d4da0",
   "metadata": {},
   "outputs": [],
   "source": [
    "def run_epoch_modern(stage, model, dataloader, loss_fn, optimizer, epoch, device):\n",
    "    \n",
    "    if stage == \"train\":\n",
    "        model.train()\n",
    "        torch.set_grad_enabled(True)\n",
    "    else:\n",
    "        torch.set_grad_enabled(False)\n",
    "        model.eval()\n",
    "\n",
    "    model = model.to(device)\n",
    "    \n",
    "    losses = []\n",
    "    for batch in tqdm(dataloader, total=len(dataloader), desc=f\"epoch: {str(epoch).zfill(3)} | {stage:5}\"):\n",
    "        us, its, ys_true, feats = batch\n",
    "                \n",
    "        ys_pred = model(us.to(device), its.to(device), feats.to(device))\n",
    "        loss = loss_fn(ys_pred, ys_true.to(device))\n",
    "\n",
    "        if stage == \"train\":\n",
    "            loss.backward()\n",
    "            optimizer.step()\n",
    "            optimizer.zero_grad()\n",
    "                \n",
    "        losses.append(loss.detach().cpu().item())\n",
    "\n",
    "    return np.mean(losses)"
   ]
  },
  {
   "cell_type": "code",
   "execution_count": 228,
   "id": "d3edd000",
   "metadata": {},
   "outputs": [],
   "source": [
    "def run_experiment_modern(model, dataloader_train, dataloader_val, loss_fn, optimizer, num_epochs, device, output_dir):\n",
    "    \n",
    "    train_losses = []\n",
    "    val_losses = []\n",
    "\n",
    "    best_val_loss = np.inf\n",
    "    best_val_loss_epoch = -1\n",
    "    best_val_loss_fn = None\n",
    "\n",
    "    for epoch in range(num_epochs):\n",
    "        train_loss = run_epoch_modern(\"train\", model, dataloader_train, loss_fn, optimizer, epoch, device)\n",
    "        train_losses.append(train_loss)\n",
    "\n",
    "        val_loss = run_epoch_modern(\"val\", model, dataloader_val, loss_fn, optimizer, epoch, device)\n",
    "        val_losses.append(val_loss)\n",
    "\n",
    "        print(f\"epoch: {str(epoch).zfill(3)} | train_loss: {train_loss:5.3f}, val_loss: {val_loss:5.3f} (best: {best_val_loss:5.3f})\")\n",
    "\n",
    "        if val_loss < best_val_loss:\n",
    "\n",
    "            best_val_loss = val_loss\n",
    "            best_val_loss_epoch = epoch\n",
    "\n",
    "            output_fn = os.path.join(output_dir, f\"epoch={str(epoch).zfill(2)}_valloss={best_val_loss:.3f}.pth.tar\")\n",
    "            save_checkpoint(model, output_fn)\n",
    "            print(f\"New checkpoint saved to {output_fn}\")\n",
    "\n",
    "            best_val_loss_fn = output_fn\n",
    "\n",
    "        print()\n",
    "\n",
    "    print (f\"Best val_loss = {best_val_loss:.3f} reached at epoch {best_val_loss_epoch}\")\n",
    "    load_checkpoint(model, best_val_loss_fn)\n",
    "\n",
    "    return train_losses, val_losses, best_val_loss, model"
   ]
  },
  {
   "cell_type": "markdown",
   "id": "af80ba9e",
   "metadata": {},
   "source": [
    "### Как ещё можно улучшать архитектуру?"
   ]
  },
  {
   "cell_type": "markdown",
   "id": "c4ae7dae",
   "metadata": {},
   "source": [
    "Можно использовать гибридные модели. Разные нейронные сети строить для разных входов(юзеров,айтемов и признаков), а потом мёрджить результаты. Можно решать задачу не как задачу регрессии, а как задачу ранжирования и подстраивать модель под nDCG или классификации, в этом случае поменяется выходной слой сети. Чтобы учитывать факт, что нам гораздо важнее меньше ошибаться для хороших оценок фильмов, чтобы можно было их как раз и рекомендовать, можно сделать что-то вроде взвешенного RMSE"
   ]
  },
  {
   "cell_type": "code",
   "execution_count": null,
   "id": "0440c7eb",
   "metadata": {},
   "outputs": [],
   "source": []
  }
 ],
 "metadata": {
  "kernelspec": {
   "display_name": "Python 3 (ipykernel)",
   "language": "python",
   "name": "python3"
  },
  "language_info": {
   "codemirror_mode": {
    "name": "ipython",
    "version": 3
   },
   "file_extension": ".py",
   "mimetype": "text/x-python",
   "name": "python",
   "nbconvert_exporter": "python",
   "pygments_lexer": "ipython3",
   "version": "3.9.7"
  }
 },
 "nbformat": 4,
 "nbformat_minor": 5
}
